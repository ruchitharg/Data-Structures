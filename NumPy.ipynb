{
 "cells": [
  {
   "cell_type": "code",
   "execution_count": 1,
   "id": "28f95433-2ed6-4126-94e2-58cb8e818de3",
   "metadata": {},
   "outputs": [
    {
     "name": "stdout",
     "output_type": "stream",
     "text": [
      "Array: [0 1 2 3 4 5]\n",
      "Data type: int64\n"
     ]
    }
   ],
   "source": [
    "# 1. Create a NumPy array 'arr' of integers from 0 to 5 and print its data type.\n",
    "\n",
    "import numpy as np\n",
    "\n",
    "arr = np.arange(6)\n",
    "\n",
    "print(\"Array:\", arr)\n",
    "\n",
    "print(\"Data type:\", arr.dtype)"
   ]
  },
  {
   "cell_type": "code",
   "execution_count": 5,
   "id": "2ab81f49-bfc5-4a47-bda1-a55b03ce83f8",
   "metadata": {},
   "outputs": [
    {
     "name": "stdout",
     "output_type": "stream",
     "text": [
      "Is the data type float64? True\n"
     ]
    }
   ],
   "source": [
    "# 2. Given a NumPy array 'arr', check if its data type is float64.\n",
    "# arr = np.array([1.5, 2.6, 3.7])\n",
    "\n",
    "import numpy as np\n",
    "\n",
    "arr = np.array([1.5, 2.6, 3.7])\n",
    "\n",
    "is_float64 = arr.dtype == np.float64\n",
    "\n",
    "print(\"Is the data type float64?\", is_float64)"
   ]
  },
  {
   "cell_type": "code",
   "execution_count": 6,
   "id": "c9bad069-ad99-4808-bcf0-6069c1b3e71d",
   "metadata": {},
   "outputs": [
    {
     "name": "stdout",
     "output_type": "stream",
     "text": [
      "Array: [1.+2.j 3.+4.j 5.+6.j]\n",
      "Data type: complex128\n"
     ]
    }
   ],
   "source": [
    "# 3. Create a NumPy array 'arr' with a data type of complex128 containing three complex numbers.\n",
    "\n",
    "import numpy as np\n",
    "\n",
    "arr = np.array([1+2j, 3+4j, 5+6j], dtype=np.complex128)\n",
    "\n",
    "print(\"Array:\", arr)\n",
    "print(\"Data type:\", arr.dtype)"
   ]
  },
  {
   "cell_type": "code",
   "execution_count": 8,
   "id": "6533f373-06d3-48f0-979b-e8ac646b7022",
   "metadata": {},
   "outputs": [
    {
     "name": "stdout",
     "output_type": "stream",
     "text": [
      "Original array: [1 2 3 4 5]\n",
      "Original data type: int64\n",
      "Converted array: [1. 2. 3. 4. 5.]\n",
      "Converted data type: float32\n"
     ]
    }
   ],
   "source": [
    "# 4. Convert an existing NumPy array 'arr' of integers to float32 data type.\n",
    "\n",
    "import numpy as np\n",
    "\n",
    "arr = np.array([1, 2, 3, 4, 5])\n",
    "\n",
    "arr_float32 = arr.astype(np.float32)\n",
    "\n",
    "print(\"Original array:\", arr)\n",
    "print(\"Original data type:\", arr.dtype)\n",
    "\n",
    "print(\"Converted array:\", arr_float32)\n",
    "print(\"Converted data type:\", arr_float32.dtype)"
   ]
  },
  {
   "cell_type": "code",
   "execution_count": 9,
   "id": "aa4529f4-62a8-4cf6-a55b-cd28afe02f31",
   "metadata": {},
   "outputs": [
    {
     "name": "stdout",
     "output_type": "stream",
     "text": [
      "Original array: [1.12345679 2.98765432 3.14159265]\n",
      "Original data type: float64\n",
      "Converted array: [1.1234568 2.9876542 3.1415927]\n",
      "Converted data type: float32\n"
     ]
    }
   ],
   "source": [
    "# 5. Given a NumPy array 'arr' with float64 data type, convert it to float32 to reduce decimal precision\n",
    "\n",
    "import numpy as np\n",
    "\n",
    "arr = np.array([1.123456789, 2.987654321, 3.141592653], dtype=np.float64)\n",
    "\n",
    "arr_float32 = arr.astype(np.float32)\n",
    "\n",
    "print(\"Original array:\", arr)\n",
    "print(\"Original data type:\", arr.dtype)\n",
    "\n",
    "print(\"Converted array:\", arr_float32)\n",
    "print(\"Converted data type:\", arr_float32.dtype)"
   ]
  },
  {
   "cell_type": "code",
   "execution_count": 10,
   "id": "1aaa173a-e9ae-4eed-b640-193776b206ac",
   "metadata": {},
   "outputs": [
    {
     "name": "stdout",
     "output_type": "stream",
     "text": [
      "Shape: (2, 3)\n",
      "Size: 6\n",
      "Data type: int64\n"
     ]
    }
   ],
   "source": [
    "# 6. Write a function array_attributes that takes a NumPy array as input and returns its shape, size, and datatype.\n",
    "\n",
    "import numpy as np\n",
    "\n",
    "def array_attributes(arr):\n",
    "    shape = arr.shape\n",
    "    size = arr.size\n",
    "    dtype = arr.dtype\n",
    "    \n",
    "    return shape, size, dtype\n",
    "\n",
    "arr = np.array([[1, 2, 3], [4, 5, 6]])\n",
    "\n",
    "shape, size, dtype = array_attributes(arr)\n",
    "print(\"Shape:\", shape)\n",
    "print(\"Size:\", size)\n",
    "print(\"Data type:\", dtype)"
   ]
  },
  {
   "cell_type": "code",
   "execution_count": 11,
   "id": "24d63d4d-0e6f-403f-9c5b-9a5f512bda64",
   "metadata": {},
   "outputs": [
    {
     "name": "stdout",
     "output_type": "stream",
     "text": [
      "Dimensionality: 2\n"
     ]
    }
   ],
   "source": [
    "# 7. Create a function array_dimension that takes a NumPy array as input and returns its dimensionality.\n",
    "\n",
    "import numpy as np\n",
    "\n",
    "def array_dimension(arr):\n",
    "    dimension = arr.ndim\n",
    "    return dimension\n",
    "\n",
    "arr = np.array([[1, 2, 3], [4, 5, 6]])\n",
    "\n",
    "dimension = array_dimension(arr)\n",
    "print(\"Dimensionality:\", dimension)"
   ]
  },
  {
   "cell_type": "code",
   "execution_count": 12,
   "id": "eb8b4be8-60c2-4edf-934d-6c13b0adb13b",
   "metadata": {},
   "outputs": [
    {
     "name": "stdout",
     "output_type": "stream",
     "text": [
      "Item size: 8\n",
      "Total size in bytes: 48\n"
     ]
    }
   ],
   "source": [
    "# 8. Design a function item_size_info that takes a NumPy array as input and returns the item size and the total size in bytes.\n",
    "\n",
    "import numpy as np\n",
    "\n",
    "def item_size_info(arr):\n",
    "    item_size = arr.itemsize\n",
    "    total_size = arr.nbytes\n",
    "    return item_size, total_size\n",
    "\n",
    "arr = np.array([[1, 2, 3], [4, 5, 6]])\n",
    "\n",
    "item_size, total_size = item_size_info(arr)\n",
    "print(\"Item size:\", item_size)\n",
    "print(\"Total size in bytes:\", total_size)"
   ]
  },
  {
   "cell_type": "code",
   "execution_count": 13,
   "id": "903ada1c-8e17-4152-86cb-afb2230c4f03",
   "metadata": {},
   "outputs": [
    {
     "name": "stdout",
     "output_type": "stream",
     "text": [
      "Strides: (24, 8)\n"
     ]
    }
   ],
   "source": [
    "# 9. Create a function array_strides that takes a NumPy array as input and returns the strides of the array.\n",
    "\n",
    "import numpy as np\n",
    "\n",
    "def array_strides(arr):\n",
    "    strides = arr.strides\n",
    "    return strides\n",
    "\n",
    "arr = np.array([[1, 2, 3], [4, 5, 6]])\n",
    "\n",
    "strides = array_strides(arr)\n",
    "print(\"Strides:\", strides)"
   ]
  },
  {
   "cell_type": "code",
   "execution_count": 14,
   "id": "456f5248-121b-41f5-8181-3f43afc85a2c",
   "metadata": {},
   "outputs": [
    {
     "name": "stdout",
     "output_type": "stream",
     "text": [
      "Shape: (2, 3)\n",
      "Strides: (24, 8)\n"
     ]
    }
   ],
   "source": [
    "# 10. Design a function shape_stride_relationship that takes a NumPy array as input and returns the shape and strides of the array.\n",
    "\n",
    "import numpy as np\n",
    "\n",
    "def shape_stride_relationship(arr):\n",
    "    shape = arr.shape\n",
    "    strides = arr.strides\n",
    "    return shape, strides\n",
    "\n",
    "arr = np.array([[1, 2, 3], [4, 5, 6]])\n",
    "\n",
    "shape, strides = shape_stride_relationship(arr)\n",
    "print(\"Shape:\", shape)\n",
    "print(\"Strides:\", strides)"
   ]
  },
  {
   "cell_type": "code",
   "execution_count": 15,
   "id": "73cd73ac-3c67-4389-9604-2dada03b9792",
   "metadata": {},
   "outputs": [
    {
     "name": "stdout",
     "output_type": "stream",
     "text": [
      "Zeros array: [0. 0. 0. 0. 0.]\n"
     ]
    }
   ],
   "source": [
    "# 11. Create a function `create_zeros_array` that takes an integer `n` as input and returns a NumPy array of zeros with `n` elements.\n",
    "\n",
    "import numpy as np\n",
    "\n",
    "def create_zeros_array(n):\n",
    "    zeros_array = np.zeros(n)\n",
    "    return zeros_array\n",
    "\n",
    "n = 5\n",
    "zeros_array = create_zeros_array(n)\n",
    "print(\"Zeros array:\", zeros_array)"
   ]
  },
  {
   "cell_type": "code",
   "execution_count": 16,
   "id": "5bd1c67f-7f81-422b-b266-944a86792465",
   "metadata": {},
   "outputs": [
    {
     "name": "stdout",
     "output_type": "stream",
     "text": [
      "Ones matrix:\n",
      " [[1. 1. 1. 1.]\n",
      " [1. 1. 1. 1.]\n",
      " [1. 1. 1. 1.]]\n"
     ]
    }
   ],
   "source": [
    "# 12. Write a function `create_ones_matrix` that takes integers `rows` and `cols` as inputs and generates a 2D NumPy array filled with ones of size `rows x cols`.\n",
    "\n",
    "import numpy as np\n",
    "\n",
    "def create_ones_matrix(rows, cols):\n",
    "    ones_matrix = np.ones((rows, cols))\n",
    "    return ones_matrix\n",
    "\n",
    "rows = 3\n",
    "cols = 4\n",
    "ones_matrix = create_ones_matrix(rows, cols)\n",
    "print(\"Ones matrix:\\n\", ones_matrix)"
   ]
  },
  {
   "cell_type": "code",
   "execution_count": 17,
   "id": "801ff087-d378-4d88-9a83-8ab69430fc2e",
   "metadata": {},
   "outputs": [
    {
     "name": "stdout",
     "output_type": "stream",
     "text": [
      "Range array: [1 3 5 7 9]\n"
     ]
    }
   ],
   "source": [
    "# 13. Write a function `generate_range_array` that takes three integers start, stop, and step as arguments and creates a NumPy array with a range starting from `start`, ending at stop (exclusive), and with the specified `step`.\n",
    "\n",
    "import numpy as np\n",
    "\n",
    "def generate_range_array(start, stop, step):\n",
    "    range_array = np.arange(start, stop, step)\n",
    "    return range_array\n",
    "\n",
    "start = 1\n",
    "stop = 10\n",
    "step = 2\n",
    "range_array = generate_range_array(start, stop, step)\n",
    "print(\"Range array:\", range_array)"
   ]
  },
  {
   "cell_type": "code",
   "execution_count": 18,
   "id": "5a3e84db-0a4c-42dd-ab1b-be3e945d1139",
   "metadata": {},
   "outputs": [
    {
     "name": "stdout",
     "output_type": "stream",
     "text": [
      "Linear space array: [1. 2. 3. 4. 5.]\n"
     ]
    }
   ],
   "source": [
    "# 14. Design a function `generate_linear_space` that takes two floats `start`, `stop`, and an integer `num` as arguments and generates a NumPy array with num equally spaced values between `start` and `stop` (inclusive).\n",
    "\n",
    "import numpy as np\n",
    "\n",
    "def generate_linear_space(start, stop, num):\n",
    "    linear_space_array = np.linspace(start, stop, num)\n",
    "    return linear_space_array\n",
    "\n",
    "start = 1.0\n",
    "stop = 5.0\n",
    "num = 5\n",
    "linear_space_array = generate_linear_space(start, stop, num)\n",
    "print(\"Linear space array:\", linear_space_array)"
   ]
  },
  {
   "cell_type": "code",
   "execution_count": 19,
   "id": "eb65b437-5f38-4040-b6d6-433b9e74302c",
   "metadata": {},
   "outputs": [
    {
     "name": "stdout",
     "output_type": "stream",
     "text": [
      "Identity matrix:\n",
      " [[1. 0. 0. 0.]\n",
      " [0. 1. 0. 0.]\n",
      " [0. 0. 1. 0.]\n",
      " [0. 0. 0. 1.]]\n"
     ]
    }
   ],
   "source": [
    "# 15. Create a function `create_identity_matrix` that takes an integer `n` as input and generates a square identity matrix of size `n x n` using `numpy.eye`.\n",
    "\n",
    "import numpy as np\n",
    "\n",
    "def create_identity_matrix(n):\n",
    "    identity_matrix = np.eye(n)\n",
    "    return identity_matrix\n",
    "\n",
    "n = 4\n",
    "identity_matrix = create_identity_matrix(n)\n",
    "print(\"Identity matrix:\\n\", identity_matrix)"
   ]
  },
  {
   "cell_type": "code",
   "execution_count": 20,
   "id": "1e2a1b01-e176-4f1d-bfde-82235584370d",
   "metadata": {},
   "outputs": [
    {
     "name": "stdout",
     "output_type": "stream",
     "text": [
      "NumPy array: [1 2 3 4 5]\n"
     ]
    }
   ],
   "source": [
    "# 16. Write a function that takes a Python list and converts it into a NumPy array.\n",
    "\n",
    "import numpy as np\n",
    "\n",
    "def list_to_array(py_list):\n",
    "    np_array = np.array(py_list)\n",
    "    return np_array\n",
    "\n",
    "py_list = [1, 2, 3, 4, 5]\n",
    "np_array = list_to_array(py_list)\n",
    "print(\"NumPy array:\", np_array)"
   ]
  },
  {
   "cell_type": "code",
   "execution_count": 21,
   "id": "aded14ce-ae3c-474a-bd9b-3b8b7a3020e8",
   "metadata": {},
   "outputs": [
    {
     "name": "stdout",
     "output_type": "stream",
     "text": [
      "Original array:\n",
      " [[99  2  3]\n",
      " [ 4  5  6]]\n",
      "View array:\n",
      " [[99  2  3]\n",
      " [ 4  5  6]]\n"
     ]
    }
   ],
   "source": [
    "# 17. Create a NumPy array and demonstrate the use of `numpy.view` to create a new array object with the same data.\n",
    "\n",
    "import numpy as np\n",
    "\n",
    "original_array = np.array([[1, 2, 3], [4, 5, 6]])\n",
    "\n",
    "view_array = original_array.view()\n",
    "\n",
    "view_array[0, 0] = 99\n",
    "\n",
    "print(\"Original array:\\n\", original_array)\n",
    "print(\"View array:\\n\", view_array)"
   ]
  },
  {
   "cell_type": "code",
   "execution_count": 41,
   "id": "f4680ef1-582c-4a97-accd-1e7a3495a19a",
   "metadata": {},
   "outputs": [
    {
     "name": "stdout",
     "output_type": "stream",
     "text": [
      "Concatenated along axis 0:\n",
      " [[ 1  2  3]\n",
      " [ 4  5  6]\n",
      " [ 7  8  9]\n",
      " [10 11 12]]\n",
      "Concatenated along axis 1:\n",
      " [[ 1  2  3  7  8  9]\n",
      " [ 4  5  6 10 11 12]]\n"
     ]
    }
   ],
   "source": [
    "# 18. Write a function that takes two NumPy arrays and concatenates them along a specified axis.\n",
    "\n",
    "import numpy as np\n",
    "\n",
    "def concatenate_arrays(arr1, arr2, axis=0):\n",
    "    \n",
    "    concatenated_array = np.concatenate((arr1, arr2), axis=axis)\n",
    "    return concatenated_array\n",
    "\n",
    "arr1 = np.array([[1, 2, 3], [4, 5, 6]])\n",
    "arr2 = np.array([[7, 8, 9], [10, 11, 12]])\n",
    "\n",
    "result_axis0 = concatenate_arrays(arr1, arr2, axis=0)\n",
    "print(\"Concatenated along axis 0:\\n\", result_axis0)\n",
    "\n",
    "result_axis1 = concatenate_arrays(arr1, arr2, axis=1)\n",
    "print(\"Concatenated along axis 1:\\n\", result_axis1)"
   ]
  },
  {
   "cell_type": "code",
   "execution_count": 23,
   "id": "cff3075f-3189-4483-a5f2-e4943eb0dfae",
   "metadata": {},
   "outputs": [
    {
     "name": "stdout",
     "output_type": "stream",
     "text": [
      "Concatenated array:\n",
      " [[ 1  2  3  7  8]\n",
      " [ 4  5  6  9 10]]\n"
     ]
    }
   ],
   "source": [
    "# 19. Create two NumPy arrays with different shapes and concatenate them horizontally using `numpy.concatenate`.\n",
    "\n",
    "import numpy as np\n",
    "\n",
    "arr1 = np.array([[1, 2, 3], [4, 5, 6]])  # Shape (2, 3)\n",
    "arr2 = np.array([[7, 8], [9, 10]])        # Shape (2, 2)\n",
    "\n",
    "concatenated_array = np.concatenate((arr1, arr2), axis=1)\n",
    "\n",
    "print(\"Concatenated array:\\n\", concatenated_array)"
   ]
  },
  {
   "cell_type": "code",
   "execution_count": 43,
   "id": "984057ab-04fe-4136-8754-cc7b49780c4f",
   "metadata": {},
   "outputs": [
    {
     "name": "stdout",
     "output_type": "stream",
     "text": [
      "Vertically stacked array:\n",
      " [[1 2 3]\n",
      " [4 5 6]\n",
      " [7 8 9]]\n"
     ]
    }
   ],
   "source": [
    "# 20. Write a function that vertically stacks multiple NumPy arrays given as a list.\n",
    "\n",
    "import numpy as np\n",
    "\n",
    "def vertical_stack(arrays):\n",
    "\n",
    "    stacked_array = np.vstack(arrays)\n",
    "    return stacked_array\n",
    "\n",
    "arr1 = np.array([1, 2, 3])\n",
    "arr2 = np.array([4, 5, 6])\n",
    "arr3 = np.array([7, 8, 9])\n",
    "\n",
    "result = vertical_stack([arr1, arr2, arr3])\n",
    "print(\"Vertically stacked array:\\n\", result)"
   ]
  },
  {
   "cell_type": "code",
   "execution_count": 44,
   "id": "0a4f3e24-c967-4e1e-b646-b17acb11d1cc",
   "metadata": {},
   "outputs": [
    {
     "name": "stdout",
     "output_type": "stream",
     "text": [
      "Range array: [ 1  3  5  7  9 11]\n"
     ]
    }
   ],
   "source": [
    "# 21. Write a Python function using NumPy to create an array of integers within a specified range (inclusive) with a given step size.\n",
    "\n",
    "import numpy as np\n",
    "\n",
    "def create_range_array(start, stop, step):\n",
    "\n",
    "    range_array = np.arange(start, stop + step, step)\n",
    "    return range_array\n",
    "\n",
    "start = 1\n",
    "stop = 10\n",
    "step = 2\n",
    "range_array = create_range_array(start, stop, step)\n",
    "print(\"Range array:\", range_array)"
   ]
  },
  {
   "cell_type": "code",
   "execution_count": 45,
   "id": "d9c1de57-3429-452e-81df-9e4855560d1d",
   "metadata": {},
   "outputs": [
    {
     "name": "stdout",
     "output_type": "stream",
     "text": [
      "Equally spaced array: [0.         0.11111111 0.22222222 0.33333333 0.44444444 0.55555556\n",
      " 0.66666667 0.77777778 0.88888889 1.        ]\n"
     ]
    }
   ],
   "source": [
    "# 22. Write a Python function using NumPy to generate an array of 10 equally spaced values between 0 and 1(inclusive).\n",
    "\n",
    "import numpy as np\n",
    "\n",
    "def generate_equally_spaced_array(start, stop, num):\n",
    "\n",
    "    equally_spaced_array = np.linspace(start, stop, num)\n",
    "    return equally_spaced_array\n",
    "\n",
    "start = 0\n",
    "stop = 1\n",
    "num = 10\n",
    "array = generate_equally_spaced_array(start, stop, num)\n",
    "print(\"Equally spaced array:\", array)"
   ]
  },
  {
   "cell_type": "code",
   "execution_count": 46,
   "id": "4d5b7695-4053-40cd-9d8e-c35c3b77e77f",
   "metadata": {},
   "outputs": [
    {
     "name": "stdout",
     "output_type": "stream",
     "text": [
      "Logarithmically spaced array: [   1.            5.62341325   31.6227766   177.827941   1000.        ]\n"
     ]
    }
   ],
   "source": [
    "# 23. Write a Python function using NumPy to create an array of 5 logarithmically spaced values between 1 and 1000 (inclusive).\n",
    "\n",
    "import numpy as np\n",
    "\n",
    "def generate_logarithmic_array(start, stop, num):\n",
    "\n",
    "    log_array = np.logspace(np.log10(start), np.log10(stop), num)\n",
    "    return log_array\n",
    "\n",
    "start = 1\n",
    "stop = 1000\n",
    "num = 5\n",
    "log_array = generate_logarithmic_array(start, stop, num)\n",
    "print(\"Logarithmically spaced array:\", log_array)"
   ]
  },
  {
   "cell_type": "code",
   "execution_count": 30,
   "id": "02adf3d8-04fb-4ede-93d3-b1d461c065ee",
   "metadata": {},
   "outputs": [
    {
     "name": "stdout",
     "output_type": "stream",
     "text": [
      "DataFrame:\n",
      "    Column1  Column2  Column3\n",
      "0        3        9       70\n",
      "1       40       91       42\n",
      "2       89        2       37\n",
      "3       88       77       36\n",
      "4       96       49       41\n"
     ]
    }
   ],
   "source": [
    "# 24. Create a Pandas DataFrame using a NumPy array that contains 5 rows and 3 columns, where the values are random integers between 1 and 100.\n",
    "\n",
    "import numpy as np\n",
    "import pandas as pd\n",
    "\n",
    "np_array = np.random.randint(1, 101, size=(5, 3))\n",
    "\n",
    "df = pd.DataFrame(np_array, columns=['Column1', 'Column2', 'Column3'])\n",
    "\n",
    "print(\"DataFrame:\\n\", df)"
   ]
  },
  {
   "cell_type": "code",
   "execution_count": 47,
   "id": "c2cb1f32-c44a-41a6-b3b5-56c0e6ace009",
   "metadata": {},
   "outputs": [
    {
     "name": "stdout",
     "output_type": "stream",
     "text": [
      "Modified DataFrame:\n",
      "     A   B\n",
      "0  10  20\n",
      "1   0  15\n",
      "2   7 -30\n",
      "3   0  40\n"
     ]
    }
   ],
   "source": [
    "# 25. Write a function that takes a Pandas DataFrame and replaces all negative values in a specific column with zeros. Use NumPy operations within the Pandas DataFrame.\n",
    "\n",
    "import numpy as np\n",
    "import pandas as pd\n",
    "\n",
    "def replace_negative_values(df, column_name):\n",
    "\n",
    "    if column_name not in df.columns:\n",
    "        raise ValueError(f\"Column '{column_name}' not found in the DataFrame.\")\n",
    "    \n",
    "    df[column_name] = np.where(df[column_name] < 0, 0, df[column_name])\n",
    "    \n",
    "    return df\n",
    "\n",
    "data = {\n",
    "    'A': [10, -5, 7, -3],\n",
    "    'B': [20, 15, -30, 40]\n",
    "}\n",
    "df = pd.DataFrame(data)\n",
    "\n",
    "df_modified = replace_negative_values(df, 'A')\n",
    "print(\"Modified DataFrame:\\n\", df_modified)"
   ]
  },
  {
   "cell_type": "code",
   "execution_count": 32,
   "id": "c8b7f033-ea72-4d34-a97b-2081182018bf",
   "metadata": {},
   "outputs": [
    {
     "name": "stdout",
     "output_type": "stream",
     "text": [
      "The 3rd element is: 30\n"
     ]
    }
   ],
   "source": [
    "# 26. Access the 3rd element from the given NumPy array.\n",
    "# arr = np.array([10, 20, 30, 40, 50])\n",
    "\n",
    "import numpy as np\n",
    "\n",
    "arr = np.array([10, 20, 30, 40, 50])\n",
    "\n",
    "third_element = arr[2]\n",
    "\n",
    "print(\"The 3rd element is:\", third_element)"
   ]
  },
  {
   "cell_type": "code",
   "execution_count": 33,
   "id": "1c8d0a24-735a-46cf-9cd4-f1338997d858",
   "metadata": {},
   "outputs": [
    {
     "name": "stdout",
     "output_type": "stream",
     "text": [
      "The element at index (1, 2) is: 6\n"
     ]
    }
   ],
   "source": [
    "# 27. Retrieve the element at index (1, 2) from the 2D NumPy array.\n",
    "# arr_2d = np.array([[1, 2, 3],\n",
    "#                   [4, 5, 6],\n",
    "#                   [7, 8, 9]])\n",
    "\n",
    "\n",
    "import numpy as np\n",
    "\n",
    "arr_2d = np.array([[1, 2, 3],\n",
    "                   [4, 5, 6],\n",
    "                   [7, 8, 9]])\n",
    "\n",
    "element = arr_2d[1, 2]\n",
    "\n",
    "print(\"The element at index (1, 2) is:\", element)"
   ]
  },
  {
   "cell_type": "code",
   "execution_count": 34,
   "id": "fbda4ed4-f411-45b9-bc5f-a02069e1f629",
   "metadata": {},
   "outputs": [
    {
     "name": "stdout",
     "output_type": "stream",
     "text": [
      "Elements greater than 5: [ 8 10  7]\n"
     ]
    }
   ],
   "source": [
    "# 28. Using boolean indexing, extract elements greater than 5 from the given NumPy array.\n",
    "# arr = np.array([3, 8, 2, 10, 5, 7])\n",
    "\n",
    "import numpy as np\n",
    "\n",
    "arr = np.array([3, 8, 2, 10, 5, 7])\n",
    "\n",
    "mask = arr > 5\n",
    "\n",
    "filtered_elements = arr[mask]\n",
    "\n",
    "print(\"Elements greater than 5:\", filtered_elements)"
   ]
  },
  {
   "cell_type": "code",
   "execution_count": 35,
   "id": "ec490e2c-b36e-48fa-9741-6def1aa5c5e0",
   "metadata": {},
   "outputs": [
    {
     "name": "stdout",
     "output_type": "stream",
     "text": [
      "Elements from index 2 to 5 (inclusive): [3 4 5 6]\n"
     ]
    }
   ],
   "source": [
    "# 29. Perform basic slicing to extract elements from index 2 to 5 (inclusive) from the given NumPy array.\n",
    "# arr = np.array([1, 2, 3, 4, 5, 6, 7, 8, 9])\n",
    "\n",
    "import numpy as np\n",
    "\n",
    "arr = np.array([1, 2, 3, 4, 5, 6, 7, 8, 9])\n",
    "\n",
    "sliced_array = arr[2:6]\n",
    "\n",
    "print(\"Elements from index 2 to 5 (inclusive):\", sliced_array)"
   ]
  },
  {
   "cell_type": "code",
   "execution_count": 40,
   "id": "a2f65fc2-8c73-451b-988b-8925bb9af687",
   "metadata": {},
   "outputs": [
    {
     "name": "stdout",
     "output_type": "stream",
     "text": [
      "Extracted sub-array:\n",
      " [[2 3]\n",
      " [5 6]]\n"
     ]
    }
   ],
   "source": [
    "# 30. Slice the 2D NumPy array to extract the sub-array `[[2, 3], [5, 6]]` from the given array.\n",
    "#arr_2d = np.array([[1, 2, 3],\n",
    "#                   [4, 5, 6],\n",
    "#                   [7, 8, 9]])\n",
    "\n",
    "import numpy as np\n",
    "\n",
    "arr_2d = np.array([[1, 2, 3],\n",
    "                   [4, 5, 6],\n",
    "                   [7, 8, 9]])\n",
    "\n",
    "# Slice the array to extract the sub-array [[2, 3], [5, 6]]\n",
    "sub_array = arr_2d[0:2, 1:3]\n",
    "\n",
    "print(\"Extracted sub-array:\\n\", sub_array)"
   ]
  },
  {
   "cell_type": "code",
   "execution_count": 48,
   "id": "75bbe58b-d212-48f6-aa2b-e8549e25fd7a",
   "metadata": {},
   "outputs": [
    {
     "name": "stdout",
     "output_type": "stream",
     "text": [
      "Extracted elements: [20 60 70]\n"
     ]
    }
   ],
   "source": [
    "# 31.Write a NumPy function to extract elements in specific order from a given 2D array based on indices provided in another array.\n",
    "\n",
    "import numpy as np\n",
    "\n",
    "def extract_elements(arr_2d, indices):\n",
    "\n",
    "    row_indices, col_indices = indices[:, 0], indices[:, 1]\n",
    "    \n",
    "    extracted_elements = arr_2d[row_indices, col_indices]\n",
    "    \n",
    "    return extracted_elements\n",
    "\n",
    "arr_2d = np.array([[10, 20, 30],\n",
    "                   [40, 50, 60],\n",
    "                   [70, 80, 90]])\n",
    "\n",
    "indices = np.array([[0, 1], [1, 2], [2, 0]])\n",
    "\n",
    "result = extract_elements(arr_2d, indices)\n",
    "print(\"Extracted elements:\", result)"
   ]
  },
  {
   "cell_type": "code",
   "execution_count": 49,
   "id": "10d4c097-a8f0-41aa-958a-0f5624419bed",
   "metadata": {},
   "outputs": [
    {
     "name": "stdout",
     "output_type": "stream",
     "text": [
      "Filtered array: [ 7 10  6]\n"
     ]
    }
   ],
   "source": [
    "# 32. Create a NumPy function that filters elements greater than a threshold from a given 1D array using boolean indexing.\n",
    "\n",
    "import numpy as np\n",
    "\n",
    "def filter_greater_than(arr, threshold):\n",
    "\n",
    "    mask = arr > threshold\n",
    "    \n",
    "    filtered_array = arr[mask]\n",
    "    \n",
    "    return filtered_array\n",
    "\n",
    "arr = np.array([1, 5, 7, 10, 3, 6])\n",
    "threshold = 5\n",
    "\n",
    "result = filter_greater_than(arr, threshold)\n",
    "print(\"Filtered array:\", result)"
   ]
  },
  {
   "cell_type": "code",
   "execution_count": 54,
   "id": "41459042-18fa-4da5-b06a-969fa2fd5e90",
   "metadata": {},
   "outputs": [
    {
     "name": "stdout",
     "output_type": "stream",
     "text": [
      "Extracted elements: [ 6 16 20]\n"
     ]
    }
   ],
   "source": [
    "# 33. Develop a NumPy function that extracts specific elements from a 3D array using indices provided in three separate arrays for each dimension.\n",
    "\n",
    "import numpy as np\n",
    "\n",
    "def extract_3d_elements(arr_3d, row_indices, col_indices, depth_indices):\n",
    "\n",
    "    if not (len(row_indices) == len(col_indices) == len(depth_indices)):\n",
    "        raise ValueError(\"Index arrays must have the same length.\")\n",
    "\n",
    "    extracted_elements = arr_3d[row_indices, col_indices, depth_indices]\n",
    "    \n",
    "    return extracted_elements\n",
    "\n",
    "arr_3d = np.array([[[ 1,  2,  3],\n",
    "                    [ 4,  5,  6],\n",
    "                    [ 7,  8,  9]],\n",
    "                   \n",
    "                   [[10, 11, 12],\n",
    "                    [13, 14, 15],\n",
    "                    [16, 17, 18]],\n",
    "                   \n",
    "                   [[19, 20, 21],\n",
    "                    [22, 23, 24],\n",
    "                    [25, 26, 27]]])\n",
    "\n",
    "row_indices = np.array([0, 1, 2])\n",
    "col_indices = np.array([1, 2, 0])\n",
    "depth_indices = np.array([2, 0, 1])\n",
    "\n",
    "result = extract_3d_elements(arr_3d, row_indices, col_indices, depth_indices)\n",
    "print(\"Extracted elements:\", result)"
   ]
  },
  {
   "cell_type": "code",
   "execution_count": 56,
   "id": "14b35c15-b085-4132-bab4-071f6652f91b",
   "metadata": {},
   "outputs": [
    {
     "name": "stdout",
     "output_type": "stream",
     "text": [
      "Filtered elements: [40 50 60]\n"
     ]
    }
   ],
   "source": [
    "# 34. Write a NumPy function that returns elements from an array where both two conditions are satisfied using boolean indexing.\n",
    "\n",
    "import numpy as np\n",
    "\n",
    "def filter_elements(arr, condition1, condition2):\n",
    "\n",
    "    condition1 = np.asarray(condition1)\n",
    "    condition2 = np.asarray(condition2)\n",
    "    \n",
    "    if arr.shape != condition1.shape or arr.shape != condition2.shape:\n",
    "        raise ValueError(\"Conditions must have the same shape as the input array.\")\n",
    "    \n",
    "    combined_condition = condition1 & condition2\n",
    "    \n",
    "    filtered_elements = arr[combined_condition]\n",
    "    \n",
    "    return filtered_elements\n",
    "\n",
    "arr = np.array([10, 20, 30, 40, 50, 60, 70, 80, 90])\n",
    "\n",
    "condition1 = arr > 30\n",
    "condition2 = arr < 70\n",
    "\n",
    "result = filter_elements(arr, condition1, condition2)\n",
    "print(\"Filtered elements:\", result)"
   ]
  },
  {
   "cell_type": "code",
   "execution_count": 57,
   "id": "e3baeda3-f038-4586-ae36-2d3242c75eaf",
   "metadata": {},
   "outputs": [
    {
     "name": "stdout",
     "output_type": "stream",
     "text": [
      "Extracted elements: [30 40 80]\n"
     ]
    }
   ],
   "source": [
    "# 35. Create a NumPy function that extracts elements from a 2D array using row and column indices provided in separate arrays.\n",
    "\n",
    "import numpy as np\n",
    "\n",
    "def extract_elements_2d(arr_2d, row_indices, col_indices):\n",
    "\n",
    "    row_indices = np.asarray(row_indices)\n",
    "    col_indices = np.asarray(col_indices)\n",
    "    \n",
    "    if row_indices.shape != col_indices.shape:\n",
    "        raise ValueError(\"Row and column index arrays must have the same length.\")\n",
    "    \n",
    "    extracted_elements = arr_2d[row_indices, col_indices]\n",
    "    \n",
    "    return extracted_elements\n",
    "\n",
    "arr_2d = np.array([[10, 20, 30],\n",
    "                   [40, 50, 60],\n",
    "                   [70, 80, 90]])\n",
    "\n",
    "row_indices = np.array([0, 1, 2])\n",
    "col_indices = np.array([2, 0, 1])\n",
    "\n",
    "result = extract_elements_2d(arr_2d, row_indices, col_indices)\n",
    "print(\"Extracted elements:\", result)"
   ]
  },
  {
   "cell_type": "code",
   "execution_count": 58,
   "id": "11a094d3-a695-4eef-869b-7aafc752b5f2",
   "metadata": {},
   "outputs": [
    {
     "name": "stdout",
     "output_type": "stream",
     "text": [
      "Array after adding scalar value:\n",
      " [[ 6  7  8]\n",
      " [ 9 10 11]\n",
      " [12 13 14]]\n"
     ]
    }
   ],
   "source": [
    "# 36. Given an array arr of shape (3, 3), add a scalar value of 5 to each element using NumPy broadcasting.\n",
    "\n",
    "import numpy as np\n",
    "\n",
    "arr = np.array([[1, 2, 3],\n",
    "                [4, 5, 6],\n",
    "                [7, 8, 9]])\n",
    "\n",
    "scalar = 5\n",
    "\n",
    "result = arr + scalar\n",
    "\n",
    "print(\"Array after adding scalar value:\\n\", result)"
   ]
  },
  {
   "cell_type": "code",
   "execution_count": 64,
   "id": "069f0197-8bb0-43eb-bf4c-f6cfa3b7e807",
   "metadata": {},
   "outputs": [
    {
     "name": "stdout",
     "output_type": "stream",
     "text": [
      "Result after multiplication:\n",
      " [[ 4 10 18]\n",
      " [ 8 18 30]\n",
      " [12 26 42]]\n"
     ]
    }
   ],
   "source": [
    "# 37. Consider two arrays arr1 of shape (1, 3) and arr2 of shape (3, 4). Multiply each row of arr2 by the corresponding element in arr1 using NumPy broadcasting.\n",
    "\n",
    "import numpy as np\n",
    "\n",
    "arr1 = np.array([[1, 2, 3]])\n",
    "arr2 = np.array([[4, 5, 6, 7],\n",
    "                 [8, 9, 10, 11],\n",
    "                 [12, 13, 14, 15]])\n",
    "\n",
    "arr1_broadcasted = arr1.T.reshape(1, 3)\n",
    "\n",
    "result = arr2[:, :3] * arr1_broadcasted\n",
    "\n",
    "print(\"Result after multiplication:\\n\", result)"
   ]
  },
  {
   "cell_type": "code",
   "execution_count": 66,
   "id": "c50f4eb1-3cc7-4516-a2cb-0f3b23e81736",
   "metadata": {},
   "outputs": [
    {
     "name": "stdout",
     "output_type": "stream",
     "text": [
      "Result after addition:\n",
      " [[ 11  22  33]\n",
      " [ 41  52  63]\n",
      " [ 71  82  93]\n",
      " [101 112 123]]\n"
     ]
    }
   ],
   "source": [
    "# 38. Given a 1D array arr1 of shape (1, 4) and a 2D array arr2 of shape (4, 3), add arr1 to each row of arr2 using NumPy broadcasting.\n",
    "\n",
    "import numpy as np\n",
    "\n",
    "arr1 = np.array([[1, 2, 3, 4]])\n",
    "arr2 = np.array([[10, 20, 30],\n",
    "                 [40, 50, 60],\n",
    "                 [70, 80, 90],\n",
    "                 [100, 110, 120]])\n",
    "\n",
    "arr1_broadcasted = arr1[:, :3]\n",
    "\n",
    "result = arr2 + arr1_broadcasted\n",
    "\n",
    "print(\"Result after addition:\\n\", result)"
   ]
  },
  {
   "cell_type": "code",
   "execution_count": 67,
   "id": "e327321a-c500-4d17-90bb-a51e03bd1453",
   "metadata": {},
   "outputs": [
    {
     "name": "stdout",
     "output_type": "stream",
     "text": [
      "Result after addition:\n",
      " [[11 21 31]\n",
      " [12 22 32]\n",
      " [13 23 33]]\n"
     ]
    }
   ],
   "source": [
    "# 39. Consider two arrays arr1 of shape (3, 1) and arr2 of shape (1, 3). Add these arrays using NumPy broadcasting.\n",
    "\n",
    "import numpy as np\n",
    "\n",
    "arr1 = np.array([[1], [2], [3]])\n",
    "arr2 = np.array([[10, 20, 30]])\n",
    "\n",
    "result = arr1 + arr2\n",
    "\n",
    "print(\"Result after addition:\\n\", result)"
   ]
  },
  {
   "cell_type": "code",
   "execution_count": 68,
   "id": "42f7c5ea-d027-4b69-ad6b-6b7d82b2790e",
   "metadata": {},
   "outputs": [
    {
     "name": "stdout",
     "output_type": "stream",
     "text": [
      "Result after multiplication with padded arr2:\n",
      " [[ 10  40   0]\n",
      " [120 200   0]]\n"
     ]
    }
   ],
   "source": [
    "# 40. Given arrays arr1 of shape (2, 3) and arr2 of shape (2, 2), perform multiplication using NumPy broadcasting. Handle the shape incompatibility.\n",
    "\n",
    "import numpy as np\n",
    "\n",
    "arr1 = np.array([[1, 2, 3],\n",
    "                 [4, 5, 6]])\n",
    "\n",
    "arr2 = np.array([[10, 20],\n",
    "                 [30, 40]])\n",
    "\n",
    "arr2_padded = np.pad(arr2, ((0, 0), (0, 1)), mode='constant', constant_values=0)\n",
    "\n",
    "result = arr1 * arr2_padded\n",
    "\n",
    "print(\"Result after multiplication with padded arr2:\\n\", result)"
   ]
  },
  {
   "cell_type": "code",
   "execution_count": 69,
   "id": "7abcd1fb-6674-4805-b68e-b419b8d499e5",
   "metadata": {},
   "outputs": [
    {
     "name": "stdout",
     "output_type": "stream",
     "text": [
      "Column-wise mean: [2.5 3.5 4.5]\n"
     ]
    }
   ],
   "source": [
    "# 41. Calculate column wise mean for the given array:\n",
    "# arr = np.array([[1, 2, 3], [4, 5, 6]])\n",
    "\n",
    "import numpy as np\n",
    "\n",
    "arr = np.array([[1, 2, 3],\n",
    "                [4, 5, 6]])\n",
    "\n",
    "column_wise_mean = np.mean(arr, axis=0)\n",
    "\n",
    "print(\"Column-wise mean:\", column_wise_mean)"
   ]
  },
  {
   "cell_type": "code",
   "execution_count": 70,
   "id": "d9eaa7e7-1e03-422b-b65a-8b13b0dba166",
   "metadata": {},
   "outputs": [
    {
     "name": "stdout",
     "output_type": "stream",
     "text": [
      "Maximum value in each row: [3 6]\n"
     ]
    }
   ],
   "source": [
    "# 42. Find maximum value in each row of the given array:\n",
    "# arr = np.array([[1, 2, 3], [4, 5, 6]])\n",
    "\n",
    "import numpy as np\n",
    "\n",
    "arr = np.array([[1, 2, 3],\n",
    "                [4, 5, 6]])\n",
    "\n",
    "max_in_rows = np.max(arr, axis=1)\n",
    "\n",
    "print(\"Maximum value in each row:\", max_in_rows)"
   ]
  },
  {
   "cell_type": "code",
   "execution_count": 71,
   "id": "4df70548-c164-4d27-901f-454d67c0e1fb",
   "metadata": {},
   "outputs": [
    {
     "name": "stdout",
     "output_type": "stream",
     "text": [
      "Indices of maximum value in each column: [1 1 1]\n"
     ]
    }
   ],
   "source": [
    "# 43. For the given array, find indices of maximum value in each column.\n",
    "# arr = np.array([[1, 2, 3], [4, 5, 6]])\n",
    "\n",
    "import numpy as np\n",
    "\n",
    "arr = np.array([[1, 2, 3],\n",
    "                [4, 5, 6]])\n",
    "\n",
    "indices_of_max = np.argmax(arr, axis=0)\n",
    "\n",
    "print(\"Indices of maximum value in each column:\", indices_of_max)"
   ]
  },
  {
   "cell_type": "code",
   "execution_count": 72,
   "id": "be073bea-bc0d-44c6-80c6-7f93ceed8a3d",
   "metadata": {},
   "outputs": [
    {
     "name": "stdout",
     "output_type": "stream",
     "text": [
      "Moving sum along rows:\n",
      " [[ 3.  5.]\n",
      " [ 9. 11.]]\n"
     ]
    }
   ],
   "source": [
    "# 44. For the given array, apply custom function to calculate moving sum along rows.\n",
    "# arr = np.array([[1, 2, 3], [4, 5, 6]])\n",
    "\n",
    "import numpy as np\n",
    "\n",
    "def moving_sum(arr, window_size):\n",
    "\n",
    "    result = []\n",
    "    \n",
    "    for row in arr:\n",
    "        row_moving_sum = np.convolve(row, np.ones(window_size), mode='valid')\n",
    "        result.append(row_moving_sum)\n",
    "    \n",
    "    return np.array(result)\n",
    "\n",
    "arr = np.array([[1, 2, 3],\n",
    "                [4, 5, 6]])\n",
    "\n",
    "window_size = 2\n",
    "\n",
    "moving_sum_result = moving_sum(arr, window_size)\n",
    "\n",
    "print(\"Moving sum along rows:\\n\", moving_sum_result)"
   ]
  },
  {
   "cell_type": "code",
   "execution_count": 73,
   "id": "1a795691-a4f4-46c6-89d1-1af8d1e51e38",
   "metadata": {},
   "outputs": [
    {
     "name": "stdout",
     "output_type": "stream",
     "text": [
      "Are all elements in each column even? [False False False]\n"
     ]
    }
   ],
   "source": [
    "# 45. In the given array, check if all elements in each column are even.\n",
    "# arr = np.array([[2, 4, 6], [3, 5, 7]])\n",
    "\n",
    "import numpy as np\n",
    "\n",
    "arr = np.array([[2, 4, 6],\n",
    "                [3, 5, 7]])\n",
    "\n",
    "is_even = (arr % 2 == 0)\n",
    "\n",
    "all_even_columns = np.all(is_even, axis=0)\n",
    "\n",
    "print(\"Are all elements in each column even?\", all_even_columns)"
   ]
  },
  {
   "cell_type": "code",
   "execution_count": 75,
   "id": "6d3ac6b0-ef45-47a0-b22f-c1d27abcd26c",
   "metadata": {},
   "outputs": [
    {
     "name": "stdout",
     "output_type": "stream",
     "text": [
      "Reshaped matrix:\n",
      " [[1 2 3]\n",
      " [4 5 6]]\n",
      "Reshaped matrix:\n",
      " [[1 2]\n",
      " [3 4]\n",
      " [5 6]]\n"
     ]
    }
   ],
   "source": [
    "# 46. Given a NumPy array arr, reshape it into a matrix of dimensions `m` rows and `n` columns. Return the reshaped matrix.\n",
    "# original_array = np.array([1, 2, 3, 4, 5, 6])\n",
    "\n",
    "import numpy as np\n",
    "\n",
    "original_array = np.array([1, 2, 3, 4, 5, 6])\n",
    "\n",
    "m, n = 2, 3\n",
    "\n",
    "reshaped_matrix = original_array.reshape(m, n)\n",
    "\n",
    "print(\"Reshaped matrix:\\n\", reshaped_matrix)\n",
    "\n",
    "# Desired dimensions\n",
    "m, n = 3, 2  \n",
    "\n",
    "reshaped_matrix = original_array.reshape(m, n)\n",
    "\n",
    "print(\"Reshaped matrix:\\n\", reshaped_matrix)"
   ]
  },
  {
   "cell_type": "code",
   "execution_count": 76,
   "id": "60e40df9-e160-4e65-9c15-88c87fffa179",
   "metadata": {},
   "outputs": [
    {
     "name": "stdout",
     "output_type": "stream",
     "text": [
      "Flattened array: [1 2 3 4 5 6]\n"
     ]
    }
   ],
   "source": [
    "# 47. Create a function that takes a matrix as input and returns the flattened array.\n",
    "# input_matrix = np.array([[1, 2, 3], [4, 5, 6]])\n",
    "\n",
    "import numpy as np\n",
    "\n",
    "def flatten_matrix(matrix):\n",
    "\n",
    "    return matrix.flatten()\n",
    "\n",
    "input_matrix = np.array([[1, 2, 3], [4, 5, 6]])\n",
    "flattened_array = flatten_matrix(input_matrix)\n",
    "\n",
    "print(\"Flattened array:\", flattened_array)"
   ]
  },
  {
   "cell_type": "code",
   "execution_count": 1,
   "id": "6ffcbbb4-8e91-4ddf-a80a-ac622f378d8b",
   "metadata": {},
   "outputs": [
    {
     "name": "stdout",
     "output_type": "stream",
     "text": [
      "Concatenated along axis 0:\n",
      " [[1 2]\n",
      " [3 4]\n",
      " [5 6]\n",
      " [7 8]]\n",
      "Concatenated along axis 1:\n",
      " [[1 2 5 6]\n",
      " [3 4 7 8]]\n"
     ]
    }
   ],
   "source": [
    "# 48. Write a function that concatenates two given arrays along a specified axis.\n",
    "# array1 = np.array([[1, 2], [3, 4]])\n",
    "# array2 = np.array([[5, 6], [7, 8]])\n",
    "\n",
    "import numpy as np\n",
    "\n",
    "def concatenate_arrays(array1, array2, axis):\n",
    "\n",
    "    return np.concatenate((array1, array2), axis=axis)\n",
    "\n",
    "array1 = np.array([[1, 2], [3, 4]])\n",
    "array2 = np.array([[5, 6], [7, 8]])\n",
    "\n",
    "concatenated_axis0 = concatenate_arrays(array1, array2, axis=0)\n",
    "print(\"Concatenated along axis 0:\\n\", concatenated_axis0)\n",
    "\n",
    "concatenated_axis1 = concatenate_arrays(array1, array2, axis=1)\n",
    "print(\"Concatenated along axis 1:\\n\", concatenated_axis1)"
   ]
  },
  {
   "cell_type": "code",
   "execution_count": 2,
   "id": "ac74dbde-c663-4136-9b1b-e9949cb65e16",
   "metadata": {},
   "outputs": [
    {
     "name": "stdout",
     "output_type": "stream",
     "text": [
      "Split along axis 0:\n",
      "[[1 2 3]]\n",
      "[[4 5 6]]\n",
      "[[7 8 9]]\n",
      "\n",
      "Split along axis 1:\n",
      "[[1]\n",
      " [4]\n",
      " [7]]\n",
      "[[2]\n",
      " [5]\n",
      " [8]]\n",
      "[[3]\n",
      " [6]\n",
      " [9]]\n"
     ]
    }
   ],
   "source": [
    "# 49. Create a function that splits an array into multiple sub-arrays along a specified axis.\n",
    "# original_array = np.array([[1, 2, 3], [4, 5, 6], [7, 8, 9]])\n",
    "\n",
    "import numpy as np\n",
    "\n",
    "def split_array(array, num_splits, axis=0):\n",
    "\n",
    "    return np.array_split(array, num_splits, axis=axis)\n",
    "\n",
    "original_array = np.array([[1, 2, 3],\n",
    "                           [4, 5, 6],\n",
    "                           [7, 8, 9]])\n",
    "\n",
    "split_axis0 = split_array(original_array, num_splits=3, axis=0)\n",
    "print(\"Split along axis 0:\")\n",
    "for sub_array in split_axis0:\n",
    "    print(sub_array)\n",
    "\n",
    "split_axis1 = split_array(original_array, num_splits=3, axis=1)\n",
    "print(\"\\nSplit along axis 1:\")\n",
    "for sub_array in split_axis1:\n",
    "    print(sub_array)"
   ]
  },
  {
   "cell_type": "code",
   "execution_count": 3,
   "id": "d17c9aa1-fa06-41c4-8d62-c36aeb5f2dfa",
   "metadata": {},
   "outputs": [
    {
     "name": "stdout",
     "output_type": "stream",
     "text": [
      "Modified array: [ 1 10  4 11  5]\n"
     ]
    }
   ],
   "source": [
    "# 50. Write a function that inserts and then deletes elements from a given array at specified indices.\n",
    "# original_array = np.array([1, 2, 3, 4, 5])\n",
    "#indices_to_insert = [2, 4]\n",
    "#values_to_insert = [10, 11]\n",
    "#indices_to_delete = [1, 3]\n",
    "\n",
    "import numpy as np\n",
    "\n",
    "def modify_array(array, indices_to_insert, values_to_insert, indices_to_delete):\n",
    "\n",
    "    modified_array = np.insert(array, indices_to_insert, values_to_insert)\n",
    "\n",
    "    modified_array = np.delete(modified_array, indices_to_delete)\n",
    "    \n",
    "    return modified_array\n",
    "\n",
    "original_array = np.array([1, 2, 3, 4, 5])\n",
    "indices_to_insert = [2, 4]\n",
    "values_to_insert = [10, 11]\n",
    "indices_to_delete = [1, 3]\n",
    "\n",
    "result_array = modify_array(original_array, indices_to_insert, values_to_insert, indices_to_delete)\n",
    "print(\"Modified array:\", result_array)"
   ]
  },
  {
   "cell_type": "code",
   "execution_count": 4,
   "id": "724cf2b1-f24b-48f9-9b9d-12f1bb863017",
   "metadata": {},
   "outputs": [
    {
     "name": "stdout",
     "output_type": "stream",
     "text": [
      "arr1:\n",
      "[[98 52  8]\n",
      " [ 4 48 15]\n",
      " [76 26 12]]\n",
      "\n",
      "arr2:\n",
      "[[1 2 3]\n",
      " [4 5 6]\n",
      " [7 8 9]]\n",
      "\n",
      "Result of element-wise addition:\n",
      "[[99 54 11]\n",
      " [ 8 53 21]\n",
      " [83 34 21]]\n"
     ]
    }
   ],
   "source": [
    "# 51. Create a NumPy array `arr1` with random integers and another array `arr2` with integers from 1 to 10. Perform element-wise addition between `arr1` and `arr2`.\n",
    "\n",
    "import numpy as np\n",
    "\n",
    "arr1 = np.random.randint(0, 100, size=(3, 3))\n",
    "\n",
    "arr2 = np.arange(1, 10).reshape(3, 3)\n",
    "\n",
    "result = arr1 + arr2\n",
    "\n",
    "print(\"arr1:\")\n",
    "print(arr1)\n",
    "print(\"\\narr2:\")\n",
    "print(arr2)\n",
    "print(\"\\nResult of element-wise addition:\")\n",
    "print(result)"
   ]
  },
  {
   "cell_type": "code",
   "execution_count": 11,
   "id": "1e155318-44de-4327-a912-ca7e7b188dac",
   "metadata": {},
   "outputs": [
    {
     "name": "stdout",
     "output_type": "stream",
     "text": [
      "arr1:\n",
      "[[9 8 7]\n",
      " [6 5 4]\n",
      " [3 2 1]]\n",
      "\n",
      "arr2:\n",
      "[[1 2 3]\n",
      " [4 5 6]\n",
      " [7 8 9]]\n",
      "\n",
      "Result of element-wise subtraction:\n",
      "[[ 8  6  4]\n",
      " [ 2  0 -2]\n",
      " [-4 -6 -8]]\n"
     ]
    }
   ],
   "source": [
    "# 52. Generate a NumPy array `arr1` with sequential integers from 10 to 1 and another array `arr2` with integers from 1 to 10. Subtract `arr2` from `arr1` element-wise.\n",
    "\n",
    "import numpy as np\n",
    "\n",
    "arr1 = np.arange(9, 0, -1).reshape(3, 3)\n",
    "\n",
    "arr2 = np.arange(1, 10).reshape(3, 3)\n",
    "\n",
    "result = arr1 - arr2\n",
    "\n",
    "print(\"arr1:\")\n",
    "print(arr1)\n",
    "print(\"\\narr2:\")\n",
    "print(arr2)\n",
    "print(\"\\nResult of element-wise subtraction:\")\n",
    "print(result)"
   ]
  },
  {
   "cell_type": "code",
   "execution_count": 15,
   "id": "613f4fc0-ef94-4234-b70a-adc803569792",
   "metadata": {},
   "outputs": [
    {
     "name": "stdout",
     "output_type": "stream",
     "text": [
      "arr1:\n",
      "[[1 6 4 8 5]\n",
      " [2 9 7 1 4]\n",
      " [9 5 3 6 4]]\n",
      "\n",
      "arr2:\n",
      "[[1 2 3 4 5]]\n",
      "\n",
      "Result of element-wise multiplication:\n",
      "[[ 1 12 12 32 25]\n",
      " [ 2 18 21  4 20]\n",
      " [ 9 10  9 24 20]]\n"
     ]
    }
   ],
   "source": [
    "# 53. Create a NumPy array `arr1` with random integers and another array `arr2` with integers from 1 to 5. Perform element-wise multiplication between `arr1` and `arr2`.\n",
    "\n",
    "import numpy as np\n",
    "\n",
    "arr1 = np.random.randint(0, 10, size=(3, 5))\n",
    "\n",
    "arr2 = np.arange(1, 6)\n",
    "\n",
    "arr2 = arr2.reshape(1, 5)\n",
    "\n",
    "result = arr1 * arr2\n",
    "\n",
    "print(\"arr1:\")\n",
    "print(arr1)\n",
    "print(\"\\narr2:\")\n",
    "print(arr2)\n",
    "print(\"\\nResult of element-wise multiplication:\")\n",
    "print(result)"
   ]
  },
  {
   "cell_type": "code",
   "execution_count": 17,
   "id": "f258d1a7-475a-4302-80b9-4e77d358b737",
   "metadata": {},
   "outputs": [
    {
     "name": "stdout",
     "output_type": "stream",
     "text": [
      "arr1:\n",
      "[[ 2  4  6  8 10]]\n",
      "\n",
      "arr2:\n",
      "[1 2 3 4 5]\n",
      "\n",
      "Result of element-wise division:\n",
      "[[2. 2. 2. 2. 2.]]\n"
     ]
    }
   ],
   "source": [
    "# 54. Generate a NumPy array `arr1` with even integers from 2 to 10 and another array `arr2` with integers from 1 to 5. Perform element-wise division of `arr1` by `arr2`.\n",
    "\n",
    "import numpy as np\n",
    "\n",
    "arr1 = np.arange(2, 11, 2)\n",
    "arr1 = arr1.reshape(1, 5)\n",
    "\n",
    "\n",
    "arr2 = np.arange(1, 6)\n",
    "\n",
    "result = arr1 / arr2\n",
    "\n",
    "print(\"arr1:\")\n",
    "print(arr1)\n",
    "print(\"\\narr2:\")\n",
    "print(arr2)\n",
    "print(\"\\nResult of element-wise division:\")\n",
    "print(result)"
   ]
  },
  {
   "cell_type": "code",
   "execution_count": 19,
   "id": "1aa77e5b-203a-43ab-950f-441a171a7b72",
   "metadata": {},
   "outputs": [
    {
     "name": "stdout",
     "output_type": "stream",
     "text": [
      "arr1:\n",
      "[1 2 3 4 5]\n",
      "\n",
      "arr2:\n",
      "[5 4 3 2 1]\n",
      "\n",
      "Result of element-wise exponentiation:\n",
      "[ 1 16 27 16  5]\n"
     ]
    }
   ],
   "source": [
    "# 55. Create a NumPy array `arr1` with integers from 1 to 5 and another array `arr2` with the same numbers reversed. Calculate the exponentiation of `arr1` raised to the power of `arr2` element-wise.\n",
    "\n",
    "import numpy as np\n",
    "\n",
    "arr1 = np.arange(1, 6)\n",
    "\n",
    "arr2 = arr1[::-1]\n",
    "\n",
    "result = np.power(arr1, arr2)\n",
    "\n",
    "print(\"arr1:\")\n",
    "print(arr1)\n",
    "print(\"\\narr2:\")\n",
    "print(arr2)\n",
    "print(\"\\nResult of element-wise exponentiation:\")\n",
    "print(result)"
   ]
  },
  {
   "cell_type": "code",
   "execution_count": 20,
   "id": "b742ea17-1c28-45fa-b706-f8a94ff10e67",
   "metadata": {},
   "outputs": [
    {
     "name": "stdout",
     "output_type": "stream",
     "text": [
      "Occurrences of 'hello': 3\n"
     ]
    }
   ],
   "source": [
    "# 56. Write a function that counts the occurrences of a specific substring within a NumPy array of strings.\n",
    "# arr = np.array(['hello', 'world', 'hello', 'numpy', 'hello'])\n",
    "\n",
    "import numpy as np\n",
    "\n",
    "def count_substring_occurrences(arr, substring):\n",
    "\n",
    "    count = np.sum(np.char.find(arr, substring) != -1)\n",
    "    return count\n",
    "\n",
    "arr = np.array(['hello', 'world', 'hello', 'numpy', 'hello'])\n",
    "substring = 'hello'\n",
    "result = count_substring_occurrences(arr, substring)\n",
    "\n",
    "print(f\"Occurrences of '{substring}':\", result)"
   ]
  },
  {
   "cell_type": "code",
   "execution_count": 21,
   "id": "826f305f-1bc8-40fc-923b-fb5f20b4c2e3",
   "metadata": {},
   "outputs": [
    {
     "name": "stdout",
     "output_type": "stream",
     "text": [
      "Uppercase characters: ['H', 'W', 'O', 'A', 'I', 'G', 'P', 'T']\n"
     ]
    }
   ],
   "source": [
    "# 57. Write a function that extracts uppercase characters from a NumPy array of strings.\n",
    "# arr = np.array(['Hello', 'World', 'OpenAI', 'GPT'])\n",
    "# arr = np.array(['Hello', 'World', 'OpenAI', 'GPT'])\n",
    "\n",
    "import numpy as np\n",
    "\n",
    "def extract_uppercase_characters(arr):\n",
    "    uppercase_chars = []\n",
    "    \n",
    "    for string in arr:\n",
    "\n",
    "        uppercase_chars.extend([char for char in string if char.isupper()])\n",
    "    \n",
    "    return uppercase_chars\n",
    "\n",
    "arr = np.array(['Hello', 'World', 'OpenAI', 'GPT'])\n",
    "result = extract_uppercase_characters(arr)\n",
    "\n",
    "print(\"Uppercase characters:\", result)"
   ]
  },
  {
   "cell_type": "code",
   "execution_count": 22,
   "id": "0549de6a-0185-4178-b187-1effd98d1dc8",
   "metadata": {},
   "outputs": [
    {
     "name": "stdout",
     "output_type": "stream",
     "text": [
      "Original array:\n",
      "['apple' 'banana' 'grape' 'pineapple']\n",
      "\n",
      "Modified array:\n",
      "['orange' 'banana' 'grape' 'pineorange']\n"
     ]
    }
   ],
   "source": [
    "# 58. Write a function that replaces occurrences of a substring in a NumPy array of strings with a new string.\n",
    "# arr = np.array(['apple', 'banana', 'grape', 'pineapple'])\n",
    "\n",
    "import numpy as np\n",
    "\n",
    "def replace_substring(arr, old_substring, new_substring):\n",
    "    replaced_arr = np.char.replace(arr, old_substring, new_substring)\n",
    "    return replaced_arr\n",
    "\n",
    "\n",
    "arr = np.array(['apple', 'banana', 'grape', 'pineapple'])\n",
    "old_substring = 'apple'\n",
    "new_substring = 'orange'\n",
    "\n",
    "result = replace_substring(arr, old_substring, new_substring)\n",
    "\n",
    "print(\"Original array:\")\n",
    "print(arr)\n",
    "print(\"\\nModified array:\")\n",
    "print(result)"
   ]
  },
  {
   "cell_type": "code",
   "execution_count": 23,
   "id": "f86d6f35-c770-4b53-980c-8695820bb433",
   "metadata": {},
   "outputs": [
    {
     "name": "stdout",
     "output_type": "stream",
     "text": [
      "Concatenated array:\n",
      "['HelloOpen' 'WorldAI']\n"
     ]
    }
   ],
   "source": [
    "# 59. Write a function that concatenates strings in a NumPy array element-wise.\n",
    "# arr1 = np.array(['Hello', 'World'])\n",
    "#arr2 = np.array(['Open', 'AI'])\n",
    "\n",
    "import numpy as np\n",
    "\n",
    "def concatenate_strings(arr1, arr2):\n",
    "\n",
    "    concatenated_arr = np.char.add(arr1, arr2)\n",
    "    return concatenated_arr\n",
    "\n",
    "arr1 = np.array(['Hello', 'World'])\n",
    "arr2 = np.array(['Open', 'AI'])\n",
    "\n",
    "result = concatenate_strings(arr1, arr2)\n",
    "\n",
    "print(\"Concatenated array:\")\n",
    "print(result)"
   ]
  },
  {
   "cell_type": "code",
   "execution_count": 24,
   "id": "df629fd8-137a-4d25-adb8-3f9bcdcda448",
   "metadata": {},
   "outputs": [
    {
     "name": "stdout",
     "output_type": "stream",
     "text": [
      "Length of the longest string: 9\n"
     ]
    }
   ],
   "source": [
    "# 60. Write a function that finds the length of the longest string in a NumPy array.\n",
    "# arr = np.array(['apple', 'banana', 'grape', 'pineapple'])\n",
    "# arr = np.array(['apple', 'banana', 'grape', 'pineapple'])\n",
    "\n",
    "import numpy as np\n",
    "\n",
    "def length_of_longest_string(arr):\n",
    "    lengths = np.char.str_len(arr)\n",
    "    \n",
    "    max_length = np.max(lengths)\n",
    "    return max_length\n",
    "\n",
    "arr = np.array(['apple', 'banana', 'grape', 'pineapple'])\n",
    "\n",
    "result = length_of_longest_string(arr)\n",
    "\n",
    "print(\"Length of the longest string:\", result)"
   ]
  },
  {
   "cell_type": "code",
   "execution_count": 25,
   "id": "a90e078f-79f1-400e-b809-c669f212b0c1",
   "metadata": {},
   "outputs": [
    {
     "name": "stdout",
     "output_type": "stream",
     "text": [
      "Dataset:\n",
      "[277 527 927 193  75  13 318 906 775 657 528 615 132 209 230  45 388 894\n",
      " 251 125 655 600 209 270 329 680 579  15 590 846 752  44 308 411 481 352\n",
      " 133 935 688 706 721 723 216 256  97 404 692 882 629 934  24 831 606 869\n",
      "  91 452 244 800  45   1 890 646 377  69 916 926 254 827 663 438 187 214\n",
      "  24 405 269 301 943 579  96 147 132 767 997  13 131 807 945 442 876  87\n",
      " 701 637 827   3 373 894 955 417 211 725]\n",
      "\n",
      "Mean: 472.96\n",
      "Median: 440.0\n",
      "Variance: 95524.6584\n",
      "Standard Deviation: 309.0706365865253\n"
     ]
    }
   ],
   "source": [
    "# 61. Create a dataset of 100 random integers between 1 and 1000. Compute the mean, median, variance, and standard deviation of the dataset using NumPy's functions.\n",
    "\n",
    "import numpy as np\n",
    "\n",
    "dataset = np.random.randint(1, 1001, size=100)\n",
    "\n",
    "mean = np.mean(dataset)\n",
    "\n",
    "\n",
    "median = np.median(dataset)\n",
    "\n",
    "variance = np.var(dataset)\n",
    "\n",
    "std_dev = np.std(dataset)\n",
    "\n",
    "print(\"Dataset:\")\n",
    "print(dataset)\n",
    "print(\"\\nMean:\", mean)\n",
    "print(\"Median:\", median)\n",
    "print(\"Variance:\", variance)\n",
    "print(\"Standard Deviation:\", std_dev)"
   ]
  },
  {
   "cell_type": "code",
   "execution_count": 26,
   "id": "efd5d9ae-77a0-4dcb-a9b8-b1519506090e",
   "metadata": {},
   "outputs": [
    {
     "name": "stdout",
     "output_type": "stream",
     "text": [
      "Dataset:\n",
      "[ 69  12   5  86  45  45  56  34  51  10  35  42  34  73   8  97  89  84\n",
      "  62  81  67  93  51  23  85  72  88  39  65  82 100  12  39  66  87  66\n",
      "  86  96  10  55   4  80  70  91  48  30  22  50  37   8]\n",
      "\n",
      "25th Percentile: 34.25\n",
      "75th Percentile: 81.75\n"
     ]
    }
   ],
   "source": [
    "# 62. Generate an array of 50 random numbers between 1 and 100. Find the 25th and 75th percentiles of the dataset.\n",
    "\n",
    "import numpy as np\n",
    "\n",
    "dataset = np.random.randint(1, 101, size=50)\n",
    "\n",
    "percentile_25 = np.percentile(dataset, 25)\n",
    "percentile_75 = np.percentile(dataset, 75)\n",
    "\n",
    "print(\"Dataset:\")\n",
    "print(dataset)\n",
    "print(\"\\n25th Percentile:\", percentile_25)\n",
    "print(\"75th Percentile:\", percentile_75)"
   ]
  },
  {
   "cell_type": "code",
   "execution_count": 28,
   "id": "ddcfa7e4-ae18-48ef-8689-70623b1d3c9a",
   "metadata": {},
   "outputs": [
    {
     "name": "stdout",
     "output_type": "stream",
     "text": [
      "Array 1:\n",
      "[0.86440529 0.44314693 0.56327527 0.23516136 0.08175109 0.94787779\n",
      " 0.05499779 0.90263755 0.40386916 0.76139253 0.97877354 0.913978\n",
      " 0.7919709  0.44495604 0.82747497 0.34367138 0.96553526 0.87866324\n",
      " 0.06808026 0.07819706 0.59505452 0.55994232 0.16297507 0.79281358\n",
      " 0.42060245 0.4721759  0.91630677 0.40907587 0.81970591 0.68902774\n",
      " 0.03007083 0.41380734 0.02183097 0.17005282 0.51219328 0.36890371\n",
      " 0.50814663 0.23037591 0.82958091 0.59240139 0.31459139 0.02902199\n",
      " 0.49279333 0.06112292 0.24966288 0.2739353  0.2121082  0.24853945\n",
      " 0.6249264  0.90807293]\n",
      "\n",
      "Array 2:\n",
      "[0.86172256 0.0180663  0.28339883 0.72602364 0.1588474  0.91077627\n",
      " 0.55184023 0.40479274 0.19761535 0.61959274 0.67678427 0.96907497\n",
      " 0.08998282 0.12477163 0.42291122 0.99553775 0.53814722 0.65109369\n",
      " 0.14847009 0.84327948 0.56714574 0.17051608 0.98135763 0.03317505\n",
      " 0.32523985 0.29260943 0.83561629 0.56101568 0.12876214 0.75460547\n",
      " 0.27679526 0.67363174 0.8012525  0.02185951 0.58883019 0.2227648\n",
      " 0.23789507 0.25494576 0.00665722 0.05149178 0.77916157 0.81428085\n",
      " 0.56216903 0.75023529 0.8950489  0.63164832 0.50770985 0.42328066\n",
      " 0.1553153  0.83439978]\n",
      "\n",
      "Correlation Coefficient between Array 1 and Array 2: 0.0015384576269412986\n"
     ]
    }
   ],
   "source": [
    "# 63. Create two arrays representing two sets of variables. Compute the correlation coefficient between these arrays using NumPy's `corrcoef` function.\n",
    "\n",
    "import numpy as np\n",
    "\n",
    "array1 = np.random.rand(50)\n",
    "array2 = np.random.rand(50)\n",
    "\n",
    "correlation_matrix = np.corrcoef(array1, array2)\n",
    "\n",
    "correlation_coefficient = correlation_matrix[0, 1]\n",
    "\n",
    "print(\"Array 1:\")\n",
    "print(array1)\n",
    "print(\"\\nArray 2:\")\n",
    "print(array2)\n",
    "print(\"\\nCorrelation Coefficient between Array 1 and Array 2:\", correlation_coefficient)"
   ]
  },
  {
   "cell_type": "code",
   "execution_count": 29,
   "id": "0046339f-f992-4af0-8de5-f6468de78f68",
   "metadata": {},
   "outputs": [
    {
     "name": "stdout",
     "output_type": "stream",
     "text": [
      "Matrix 1:\n",
      "[[1 2 3]\n",
      " [4 5 6]]\n",
      "\n",
      "Matrix 2:\n",
      "[[ 7  8]\n",
      " [ 9 10]\n",
      " [11 12]]\n",
      "\n",
      "Result of matrix multiplication:\n",
      "[[ 58  64]\n",
      " [139 154]]\n"
     ]
    }
   ],
   "source": [
    "# 64. Create two matrices and perform matrix multiplication using NumPy's `dot` function.\n",
    "\n",
    "import numpy as np\n",
    "\n",
    "matrix1 = np.array([[1, 2, 3], \n",
    "                    [4, 5, 6]])\n",
    "\n",
    "matrix2 = np.array([[7, 8], \n",
    "                    [9, 10], \n",
    "                    [11, 12]])\n",
    "\n",
    "result = np.dot(matrix1, matrix2)\n",
    "\n",
    "print(\"Matrix 1:\")\n",
    "print(matrix1)\n",
    "print(\"\\nMatrix 2:\")\n",
    "print(matrix2)\n",
    "print(\"\\nResult of matrix multiplication:\")\n",
    "print(result)"
   ]
  },
  {
   "cell_type": "code",
   "execution_count": 30,
   "id": "7fbf74cf-6dc4-4101-bb04-1018e7d6372d",
   "metadata": {},
   "outputs": [
    {
     "name": "stdout",
     "output_type": "stream",
     "text": [
      "Data Array:\n",
      "[756 690 834 990 964 521 390 420 906 167 657  58 747  11 279 787 192 522\n",
      " 378 378 466 364 933 335 956 871 296 429 279  53 612 909 887 399 468 908\n",
      " 170 595 846 872 236 334 135 107 598 917  16 185  25  21]\n",
      "\n",
      "10th Percentile: 57.5\n",
      "50th Percentile (Median): 447.5\n",
      "90th Percentile: 909.8\n",
      "First Quartile (25th Percentile): 246.75\n",
      "Third Quartile (75th Percentile): 822.25\n"
     ]
    }
   ],
   "source": [
    "#65. Create an array of 50 integers between 10 and 1000. Calculate the 10th, 50th (median), and 90th percentiles along with the first and third quartiles.\n",
    "\n",
    "import numpy as np\n",
    "\n",
    "data = np.random.randint(10, 1001, size=50)\n",
    "\n",
    "percentile_10 = np.percentile(data, 10)\n",
    "median = np.percentile(data, 50)\n",
    "percentile_90 = np.percentile(data, 90)\n",
    "first_quartile = np.percentile(data, 25)\n",
    "third_quartile = np.percentile(data, 75)\n",
    "\n",
    "print(\"Data Array:\")\n",
    "print(data)\n",
    "print(\"\\n10th Percentile:\", percentile_10)\n",
    "print(\"50th Percentile (Median):\", median)\n",
    "print(\"90th Percentile:\", percentile_90)\n",
    "print(\"First Quartile (25th Percentile):\", first_quartile)\n",
    "print(\"Third Quartile (75th Percentile):\", third_quartile)"
   ]
  },
  {
   "cell_type": "code",
   "execution_count": 31,
   "id": "165093f9-c9b3-48e6-bcc2-cda37faadd27",
   "metadata": {},
   "outputs": [
    {
     "name": "stdout",
     "output_type": "stream",
     "text": [
      "Array:\n",
      "[ 10  20  30  40  50  60  70  80  90 100]\n",
      "Element to find: 50\n",
      "Index of the element: [4]\n"
     ]
    }
   ],
   "source": [
    "# 66. Create a NumPy array of integers and find the index of a specific element.\n",
    "\n",
    "import numpy as np\n",
    "\n",
    "array = np.array([10, 20, 30, 40, 50, 60, 70, 80, 90, 100])\n",
    "\n",
    "element_to_find = 50\n",
    "\n",
    "indices = np.where(array == element_to_find)\n",
    "\n",
    "index_list = indices[0].tolist()\n",
    "\n",
    "print(\"Array:\")\n",
    "print(array)\n",
    "print(f\"Element to find: {element_to_find}\")\n",
    "print(f\"Index of the element: {index_list}\")"
   ]
  },
  {
   "cell_type": "code",
   "execution_count": 32,
   "id": "312ecc4d-a65d-41f9-9031-cfe7dd74292d",
   "metadata": {},
   "outputs": [
    {
     "name": "stdout",
     "output_type": "stream",
     "text": [
      "Original Array:\n",
      "[42 18 19 83 45 87  5  5 52 73 58  4  7 80 43  9 96 15 50  1]\n",
      "\n",
      "Sorted Array in Ascending Order:\n",
      "[ 1  4  5  5  7  9 15 18 19 42 43 45 50 52 58 73 80 83 87 96]\n"
     ]
    }
   ],
   "source": [
    "# 67. Generate a random NumPy array and sort it in ascending order.\n",
    "\n",
    "import numpy as np\n",
    "\n",
    "random_array = np.random.randint(1, 100, size=20)\n",
    "\n",
    "sorted_array = np.sort(random_array)\n",
    "\n",
    "print(\"Original Array:\")\n",
    "print(random_array)\n",
    "print(\"\\nSorted Array in Ascending Order:\")\n",
    "print(sorted_array)"
   ]
  },
  {
   "cell_type": "code",
   "execution_count": 33,
   "id": "84ee61be-3aff-4d55-9eb8-b49df33fb2f2",
   "metadata": {},
   "outputs": [
    {
     "name": "stdout",
     "output_type": "stream",
     "text": [
      "Original Array:\n",
      "[12 25  6 42  8 30]\n",
      "\n",
      "Filtered Array (elements > 20):\n",
      "[25 42 30]\n"
     ]
    }
   ],
   "source": [
    "# 68. Filter elements >20  in the given NumPy array.\n",
    "# arr = np.array([12, 25, 6, 42, 8, 30])\n",
    "\n",
    "import numpy as np\n",
    "\n",
    "arr = np.array([12, 25, 6, 42, 8, 30])\n",
    "\n",
    "filtered_arr = arr[arr > 20]\n",
    "\n",
    "print(\"Original Array:\")\n",
    "print(arr)\n",
    "print(\"\\nFiltered Array (elements > 20):\")\n",
    "print(filtered_arr)"
   ]
  },
  {
   "cell_type": "code",
   "execution_count": 34,
   "id": "7a5da156-ceb2-4c2e-92d9-76c1c5b62fd0",
   "metadata": {},
   "outputs": [
    {
     "name": "stdout",
     "output_type": "stream",
     "text": [
      "Original Array:\n",
      "[ 1  5  8 12 15]\n",
      "\n",
      "Filtered Array (elements divisible by 3):\n",
      "[12 15]\n"
     ]
    }
   ],
   "source": [
    "# 69. Filter elements which are divisible by 3 from a given NumPy array.\n",
    "# arr = np.array([1, 5, 8, 12, 15])\n",
    "\n",
    "import numpy as np\n",
    "\n",
    "arr = np.array([1, 5, 8, 12, 15])\n",
    "\n",
    "filtered_arr = arr[arr % 3 == 0]\n",
    "\n",
    "print(\"Original Array:\")\n",
    "print(arr)\n",
    "print(\"\\nFiltered Array (elements divisible by 3):\")\n",
    "print(filtered_arr)"
   ]
  },
  {
   "cell_type": "code",
   "execution_count": 35,
   "id": "e5c94076-ea06-4d80-b725-9fcb3d301ead",
   "metadata": {},
   "outputs": [
    {
     "name": "stdout",
     "output_type": "stream",
     "text": [
      "Original Array:\n",
      "[10 20 30 40 50]\n",
      "\n",
      "Filtered Array (20 ≤ elements ≤ 40):\n",
      "[20 30 40]\n"
     ]
    }
   ],
   "source": [
    "# 70. Filter elements which are ≥ 20 and ≤ 40 from a given NumPy array.\n",
    "# arr = np.array([10, 20, 30, 40, 50])\n",
    "\n",
    "import numpy as np\n",
    "\n",
    "arr = np.array([10, 20, 30, 40, 50])\n",
    "\n",
    "filtered_arr = arr[(arr >= 20) & (arr <= 40)]\n",
    "\n",
    "print(\"Original Array:\")\n",
    "print(arr)\n",
    "print(\"\\nFiltered Array (20 ≤ elements ≤ 40):\")\n",
    "print(filtered_arr)"
   ]
  },
  {
   "cell_type": "code",
   "execution_count": 40,
   "id": "38297702-a4cb-43af-9a25-b726febfe841",
   "metadata": {},
   "outputs": [
    {
     "name": "stdout",
     "output_type": "stream",
     "text": [
      "Array:\n",
      "[1 2 3]\n",
      "\n",
      "Byte order of the array:\n",
      "=\n"
     ]
    }
   ],
   "source": [
    "# 71. For the given NumPy array, check its byte order using the `dtype` attribute byteorder.\n",
    "# arr = np.array([1, 2, 3])\n",
    "\n",
    "import numpy as np\n",
    "\n",
    "arr = np.array([1, 2, 3])\n",
    "\n",
    "byte_order = arr.dtype.byteorder\n",
    "\n",
    "print(\"Array:\")\n",
    "print(arr)\n",
    "print(\"\\nByte order of the array:\")\n",
    "print(byte_order)"
   ]
  },
  {
   "cell_type": "code",
   "execution_count": 43,
   "id": "3d181b60-8408-45fb-8c8a-0e12e01f54a1",
   "metadata": {},
   "outputs": [
    {
     "name": "stdout",
     "output_type": "stream",
     "text": [
      "Original Array:\n",
      "[1 2 3]\n",
      "Original Byte Order:\n",
      "=\n",
      "\n",
      "Array After Byte Swapping:\n",
      "[16777216 33554432 50331648]\n",
      "Byte Order After Swapping:\n",
      "=\n"
     ]
    }
   ],
   "source": [
    "# 72. For the given NumPy array, perform byte swapping in place using `byteswap()`.\n",
    "# arr = np.array([1, 2, 3], dtype=np.int32)\n",
    "\n",
    "import numpy as np\n",
    "\n",
    "arr = np.array([1, 2, 3], dtype=np.int32)\n",
    "\n",
    "print(\"Original Array:\")\n",
    "print(arr)\n",
    "print(\"Original Byte Order:\")\n",
    "print(arr.dtype.byteorder)\n",
    "\n",
    "arr.byteswap(inplace=True)\n",
    "\n",
    "print(\"\\nArray After Byte Swapping:\")\n",
    "print(arr)\n",
    "print(\"Byte Order After Swapping:\")\n",
    "print(arr.dtype.byteorder)"
   ]
  },
  {
   "cell_type": "code",
   "execution_count": 45,
   "id": "43993233-88dd-4bd0-9ca2-1a20ae2321a4",
   "metadata": {},
   "outputs": [
    {
     "name": "stdout",
     "output_type": "stream",
     "text": [
      "Original Array:\n",
      "[1 2 3]\n",
      "Original Byte Order:\n",
      "=\n",
      "\n",
      "Array with Swapped Byte Order:\n",
      "[16777216 33554432 50331648]\n",
      "Byte Order of New Array:\n",
      ">\n"
     ]
    }
   ],
   "source": [
    "# 73. For the given NumPy array, swap its byte order without modifying the original array using `newbyteorder()`.\n",
    "# arr = np.array([1, 2, 3], dtype=np.int32)\n",
    "\n",
    "import numpy as np\n",
    "\n",
    "arr = np.array([1, 2, 3], dtype=np.int32)\n",
    "\n",
    "print(\"Original Array:\")\n",
    "print(arr)\n",
    "print(\"Original Byte Order:\")\n",
    "print(arr.dtype.byteorder)\n",
    "\n",
    "swapped_arr = arr.newbyteorder()\n",
    "\n",
    "print(\"\\nArray with Swapped Byte Order:\")\n",
    "print(swapped_arr)\n",
    "print(\"Byte Order of New Array:\")\n",
    "print(swapped_arr.dtype.byteorder)"
   ]
  },
  {
   "cell_type": "code",
   "execution_count": 46,
   "id": "5e191dda-03bf-4e45-b0b5-63b1e1a5bf45",
   "metadata": {},
   "outputs": [
    {
     "name": "stdout",
     "output_type": "stream",
     "text": [
      "Original Array:\n",
      "[1 2 3]\n",
      "System Endianness: little\n",
      "Array Byte Order: =\n",
      "\n",
      "Array After Conditional Byte Swapping:\n",
      "[1 2 3]\n",
      "Byte Order of New Array:\n",
      "=\n"
     ]
    }
   ],
   "source": [
    "# 74. For the given NumPy array and swap its byte order conditionally based on system endianness using `newbyteorder()`.\n",
    "# arr = np.array([1, 2, 3], dtype=np.int32)\n",
    "\n",
    "import numpy as np\n",
    "import sys\n",
    "\n",
    "arr = np.array([1, 2, 3], dtype=np.int32)\n",
    "\n",
    "system_endianness = sys.byteorder\n",
    "\n",
    "array_byteorder = arr.dtype.byteorder\n",
    "\n",
    "print(\"Original Array:\")\n",
    "print(arr)\n",
    "print(\"System Endianness:\", system_endianness)\n",
    "print(\"Array Byte Order:\", array_byteorder)\n",
    "\n",
    "if (system_endianness == 'little' and array_byteorder == '>') or (system_endianness == 'big' and array_byteorder == '<'):\n",
    "    swapped_arr = arr.newbyteorder()\n",
    "else:\n",
    "    swapped_arr = arr\n",
    "\n",
    "print(\"\\nArray After Conditional Byte Swapping:\")\n",
    "print(swapped_arr)\n",
    "print(\"Byte Order of New Array:\")\n",
    "print(swapped_arr.dtype.byteorder)"
   ]
  },
  {
   "cell_type": "code",
   "execution_count": 48,
   "id": "d33f70c7-0733-490d-b481-24849b2fe049",
   "metadata": {},
   "outputs": [
    {
     "name": "stdout",
     "output_type": "stream",
     "text": [
      "Original Array:\n",
      "[1 2 3]\n",
      "System Endianness: little\n",
      "Array Byte Order: =\n",
      "Is byte swapping necessary? False\n",
      "\n",
      "No byte swapping needed.\n"
     ]
    }
   ],
   "source": [
    "# 75. For the given NumPy array, check if byte swapping is necessary for the current system using `dtype` attribute `byteorder`.\n",
    "# arr = np.array([1, 2, 3], dtype=np.int32)\n",
    "\n",
    "import numpy as np\n",
    "import sys\n",
    "\n",
    "arr = np.array([1, 2, 3], dtype=np.int32)\n",
    "\n",
    "system_endianness = sys.byteorder\n",
    "\n",
    "array_byteorder = arr.dtype.byteorder\n",
    "\n",
    "def needs_byte_swap(system_endianness, array_byteorder):\n",
    "    if array_byteorder == '=':\n",
    "        return False\n",
    "    if system_endianness == 'little' and array_byteorder == '>':\n",
    "        return True\n",
    "    if system_endianness == 'big' and array_byteorder == '<':\n",
    "        return True\n",
    "    return False\n",
    "\n",
    "swap_needed = needs_byte_swap(system_endianness, array_byteorder)\n",
    "\n",
    "print(\"Original Array:\")\n",
    "print(arr)\n",
    "print(\"System Endianness:\", system_endianness)\n",
    "print(\"Array Byte Order:\", array_byteorder)\n",
    "print(\"Is byte swapping necessary?\", swap_needed)\n",
    "\n",
    "if swap_needed:\n",
    "    swapped_arr = arr.newbyteorder()\n",
    "    print(\"\\nArray After Byte Swapping:\")\n",
    "    print(swapped_arr)\n",
    "    print(\"Byte Order of New Array:\")\n",
    "    print(swapped_arr.dtype.byteorder)\n",
    "else:\n",
    "    print(\"\\nNo byte swapping needed.\")"
   ]
  },
  {
   "cell_type": "code",
   "execution_count": 49,
   "id": "eea5e910-5486-4275-99aa-a86ebd9f66b0",
   "metadata": {},
   "outputs": [
    {
     "name": "stdout",
     "output_type": "stream",
     "text": [
      "Original Array (arr1):\n",
      "[ 1  2  3  4  5  6  7  8  9 10]\n",
      "\n",
      "Modified Copy (copy_arr):\n",
      "[ 1  2  3  4  5 99  7  8  9 10]\n",
      "\n",
      "Has arr1 been affected by modifying copy_arr?\n",
      "False\n"
     ]
    }
   ],
   "source": [
    "# 76. Create a NumPy array `arr1` with values from 1 to 10. Create a copy of `arr1` named `copy_arr` and modify an element in `copy_arr`. Check if modifying `copy_arr` affects `arr1`.\n",
    "\n",
    "import numpy as np\n",
    "\n",
    "arr1 = np.arange(1, 11)\n",
    "\n",
    "copy_arr = arr1.copy()\n",
    "\n",
    "copy_arr[5] = 99\n",
    "\n",
    "print(\"Original Array (arr1):\")\n",
    "print(arr1)\n",
    "print(\"\\nModified Copy (copy_arr):\")\n",
    "print(copy_arr)\n",
    "\n",
    "print(\"\\nHas arr1 been affected by modifying copy_arr?\")\n",
    "print(np.array_equal(arr1, copy_arr))"
   ]
  },
  {
   "cell_type": "code",
   "execution_count": 50,
   "id": "374ec2e9-1b56-4c55-915e-0d4e659baab9",
   "metadata": {},
   "outputs": [
    {
     "name": "stdout",
     "output_type": "stream",
     "text": [
      "Original Matrix:\n",
      "[[1 8 6]\n",
      " [1 9 4]\n",
      " [6 2 7]]\n",
      "\n",
      "View Slice:\n",
      "[[9 4]\n",
      " [2 7]]\n",
      "\n",
      "Modified View Slice:\n",
      "[[99  4]\n",
      " [ 2  7]]\n",
      "\n",
      "Original Matrix After Modifying View Slice:\n",
      "[[ 1  8  6]\n",
      " [ 1 99  4]\n",
      " [ 6  2  7]]\n"
     ]
    }
   ],
   "source": [
    "# 77. Create a 2D NumPy array `matrix` of shape (3, 3) with random integers. Extract a slice `view_slice` from the matrix. Modify an element in `view_slice` and observe if it changes the original `matrix`.\n",
    "\n",
    "import numpy as np\n",
    "\n",
    "matrix = np.random.randint(1, 10, size=(3, 3))\n",
    "\n",
    "view_slice = matrix[1:, 1:]\n",
    "\n",
    "print(\"Original Matrix:\")\n",
    "print(matrix)\n",
    "print(\"\\nView Slice:\")\n",
    "print(view_slice)\n",
    "\n",
    "view_slice[0, 0] = 99\n",
    "\n",
    "print(\"\\nModified View Slice:\")\n",
    "print(view_slice)\n",
    "print(\"\\nOriginal Matrix After Modifying View Slice:\")\n",
    "print(matrix)"
   ]
  },
  {
   "cell_type": "code",
   "execution_count": 52,
   "id": "20133acd-e5e2-4583-be15-e889d8b2b325",
   "metadata": {},
   "outputs": [
    {
     "name": "stdout",
     "output_type": "stream",
     "text": [
      "Original Array (array_a):\n",
      "[[ 1  2  3]\n",
      " [ 4  5  6]\n",
      " [ 7  8  9]\n",
      " [10 11 12]]\n",
      "\n",
      "View Slice (view_b):\n",
      "[[ 5  6]\n",
      " [ 8  9]\n",
      " [11 12]]\n",
      "\n",
      "Modified View Slice (view_b):\n",
      "[[10 11]\n",
      " [13 14]\n",
      " [16 17]]\n",
      "\n",
      "Original Array After Broadcasting Addition:\n",
      "[[ 1  2  3]\n",
      " [ 4 10 11]\n",
      " [ 7 13 14]\n",
      " [10 16 17]]\n"
     ]
    }
   ],
   "source": [
    "# 78. Create a NumPy array `array_a` of shape (4, 3) with sequential integers from 1 to 12. Extract a slice `view_b` from `array_a` and broadcast the addition of 5 to view_b. Check if it alters the original `array_a`.\n",
    "\n",
    "import numpy as np\n",
    "\n",
    "array_a = np.arange(1, 13).reshape(4, 3)\n",
    "\n",
    "view_b = array_a[1:, 1:]\n",
    "\n",
    "print(\"Original Array (array_a):\")\n",
    "print(array_a)\n",
    "print(\"\\nView Slice (view_b):\")\n",
    "print(view_b)\n",
    "\n",
    "view_b += 5\n",
    "\n",
    "print(\"\\nModified View Slice (view_b):\")\n",
    "print(view_b)\n",
    "print(\"\\nOriginal Array After Broadcasting Addition:\")\n",
    "print(array_a)"
   ]
  },
  {
   "cell_type": "code",
   "execution_count": 54,
   "id": "e72f9282-3f22-40c4-8e81-705cb7195640",
   "metadata": {},
   "outputs": [
    {
     "name": "stdout",
     "output_type": "stream",
     "text": [
      "Original Array (orig_array):\n",
      "[[1 2 3 4]\n",
      " [5 6 7 8]]\n",
      "\n",
      "Reshaped View (reshaped_view):\n",
      "[[1 2]\n",
      " [3 4]\n",
      " [5 6]\n",
      " [7 8]]\n",
      "\n",
      "Modified Reshaped View (reshaped_view):\n",
      "[[ 1  2]\n",
      " [ 3  4]\n",
      " [ 5 99]\n",
      " [ 7  8]]\n",
      "\n",
      "Original Array After Modification:\n",
      "[[ 1  2  3  4]\n",
      " [ 5 99  7  8]]\n"
     ]
    }
   ],
   "source": [
    "# 79. Create a NumPy array `orig_array` of shape (2, 4) with values from 1 to 8. Create a reshaped view `reshaped_view` of shape (4, 2) from orig_array. Modify an element in `reshaped_view` and check if it reflects changes in the original `orig_array`.\n",
    "\n",
    "import numpy as np\n",
    "\n",
    "orig_array = np.arange(1, 9).reshape(2, 4)\n",
    "\n",
    "reshaped_view = orig_array.reshape(4, 2)\n",
    "\n",
    "print(\"Original Array (orig_array):\")\n",
    "print(orig_array)\n",
    "print(\"\\nReshaped View (reshaped_view):\")\n",
    "print(reshaped_view)\n",
    "\n",
    "reshaped_view[2, 1] = 99\n",
    "\n",
    "print(\"\\nModified Reshaped View (reshaped_view):\")\n",
    "print(reshaped_view)\n",
    "print(\"\\nOriginal Array After Modification:\")\n",
    "print(orig_array)"
   ]
  },
  {
   "cell_type": "code",
   "execution_count": 55,
   "id": "991e894c-7367-47b0-9e81-cfb8a5e8d72f",
   "metadata": {},
   "outputs": [
    {
     "name": "stdout",
     "output_type": "stream",
     "text": [
      "Original Data (data):\n",
      "[[6 1 4 4]\n",
      " [8 4 6 3]\n",
      " [5 8 7 9]]\n",
      "\n",
      "Copy of Elements Greater Than 5 (data_copy):\n",
      "[6 8 6 8 7 9]\n",
      "\n",
      "Modified Copy (data_copy):\n",
      "[99  8  6  8  7  9]\n",
      "\n",
      "Original Data After Modification:\n",
      "[[6 1 4 4]\n",
      " [8 4 6 3]\n",
      " [5 8 7 9]]\n"
     ]
    }
   ],
   "source": [
    "# 80. Create a NumPy array `data` of shape (3, 4) with random integers. Extract a copy `data_copy` of elements greater than 5. Modify an element in `data_copy` and verify if it affects the original `data`.\n",
    "\n",
    "import numpy as np\n",
    "\n",
    "np.random.seed(0)\n",
    "data = np.random.randint(1, 10, size=(3, 4))\n",
    "\n",
    "data_copy = data[data > 5].copy()\n",
    "\n",
    "\n",
    "print(\"Original Data (data):\")\n",
    "print(data)\n",
    "print(\"\\nCopy of Elements Greater Than 5 (data_copy):\")\n",
    "print(data_copy)\n",
    "\n",
    "data_copy[0] = 99\n",
    "\n",
    "print(\"\\nModified Copy (data_copy):\")\n",
    "print(data_copy)\n",
    "print(\"\\nOriginal Data After Modification:\")\n",
    "print(data)"
   ]
  },
  {
   "cell_type": "code",
   "execution_count": 57,
   "id": "a1669281-4657-4495-9e89-801901cf0bc8",
   "metadata": {},
   "outputs": [
    {
     "name": "stdout",
     "output_type": "stream",
     "text": [
      "Matrix A:\n",
      "[[1 2 3]\n",
      " [4 5 6]\n",
      " [7 8 9]]\n",
      "\n",
      "Matrix B:\n",
      "[[9 8 7]\n",
      " [6 5 4]\n",
      " [3 2 1]]\n",
      "\n",
      "Addition Result (A + B):\n",
      "[[10 10 10]\n",
      " [10 10 10]\n",
      " [10 10 10]]\n",
      "\n",
      "Subtraction Result (A - B):\n",
      "[[-8 -6 -4]\n",
      " [-2  0  2]\n",
      " [ 4  6  8]]\n"
     ]
    }
   ],
   "source": [
    "# 81. Create two matrices A and B of identical shape containing integers and perform addition and subtraction operations between them.\n",
    "\n",
    "import numpy as np\n",
    "\n",
    "A = np.array([[1, 2, 3], [4, 5, 6], [7, 8, 9]])\n",
    "B = np.array([[9, 8, 7], [6, 5, 4], [3, 2, 1]])\n",
    "\n",
    "addition_result = A + B\n",
    "\n",
    "subtraction_result = A - B\n",
    "\n",
    "print(\"Matrix A:\")\n",
    "print(A)\n",
    "print(\"\\nMatrix B:\")\n",
    "print(B)\n",
    "print(\"\\nAddition Result (A + B):\")\n",
    "print(addition_result)\n",
    "print(\"\\nSubtraction Result (A - B):\")\n",
    "print(subtraction_result)"
   ]
  },
  {
   "cell_type": "code",
   "execution_count": 58,
   "id": "06b7016f-2370-4ba5-995f-a07c1206cfeb",
   "metadata": {},
   "outputs": [
    {
     "name": "stdout",
     "output_type": "stream",
     "text": [
      "Matrix C (3x2):\n",
      "[[9 2]\n",
      " [7 8]\n",
      " [8 9]]\n",
      "\n",
      "Matrix D (2x4):\n",
      "[[2 6 9 5]\n",
      " [4 1 4 6]]\n",
      "\n",
      "Matrix Multiplication Result (C @ D):\n",
      "[[ 26  56  89  57]\n",
      " [ 46  50  95  83]\n",
      " [ 52  57 108  94]]\n"
     ]
    }
   ],
   "source": [
    "# 82. Generate two matrices `C` (3x2) and `D` (2x4) and perform matrix multiplication.\n",
    "\n",
    "import numpy as np\n",
    "\n",
    "C = np.random.randint(1, 10, size=(3, 2))\n",
    "\n",
    "D = np.random.randint(1, 10, size=(2, 4))\n",
    "\n",
    "\n",
    "result = C @ D\n",
    "\n",
    "print(\"Matrix C (3x2):\")\n",
    "print(C)\n",
    "print(\"\\nMatrix D (2x4):\")\n",
    "print(D)\n",
    "print(\"\\nMatrix Multiplication Result (C @ D):\")\n",
    "print(result)"
   ]
  },
  {
   "cell_type": "code",
   "execution_count": 59,
   "id": "4a855fd8-46ce-4a7c-9116-db590a3335fd",
   "metadata": {},
   "outputs": [
    {
     "name": "stdout",
     "output_type": "stream",
     "text": [
      "Original Matrix (E):\n",
      "[[1 3 4 9]\n",
      " [2 4 4 4]\n",
      " [8 1 2 1]]\n",
      "\n",
      "Transpose of Matrix (E^T):\n",
      "[[1 2 8]\n",
      " [3 4 1]\n",
      " [4 4 2]\n",
      " [9 4 1]]\n"
     ]
    }
   ],
   "source": [
    "# 83. Create a matrix `E` and find its transpose.\n",
    "\n",
    "import numpy as np\n",
    "\n",
    "E = np.random.randint(1, 10, size=(3, 4))\n",
    "\n",
    "E_transpose = E.T\n",
    "\n",
    "print(\"Original Matrix (E):\")\n",
    "print(E)\n",
    "print(\"\\nTranspose of Matrix (E^T):\")\n",
    "print(E_transpose)"
   ]
  },
  {
   "cell_type": "code",
   "execution_count": 60,
   "id": "48a29b30-9fcd-4d24-b8fa-14e2505d1f4d",
   "metadata": {},
   "outputs": [
    {
     "name": "stdout",
     "output_type": "stream",
     "text": [
      "Matrix F (3x3):\n",
      "[[5 8 4]\n",
      " [3 8 3]\n",
      " [1 1 5]]\n",
      "\n",
      "Determinant of Matrix F:\n",
      "68.99999999999996\n"
     ]
    }
   ],
   "source": [
    "# 84. Generate a square matrix `F` and compute its determinant.\n",
    "\n",
    "import numpy as np\n",
    "\n",
    "# Generate a square matrix F of shape (3, 3) with random integers\n",
    "F = np.random.randint(1, 10, size=(3, 3))\n",
    "\n",
    "# Compute the determinant of matrix F\n",
    "determinant_F = np.linalg.det(F)\n",
    "\n",
    "# Print the matrix and its determinant\n",
    "print(\"Matrix F (3x3):\")\n",
    "print(F)\n",
    "print(\"\\nDeterminant of Matrix F:\")\n",
    "print(determinant_F)"
   ]
  },
  {
   "cell_type": "code",
   "execution_count": 61,
   "id": "b7b4ebd3-9aaa-40e7-9277-3ed07bf7ee08",
   "metadata": {},
   "outputs": [
    {
     "name": "stdout",
     "output_type": "stream",
     "text": [
      "Matrix G (3x3):\n",
      "[[6 6 7]\n",
      " [9 5 2]\n",
      " [5 9 2]]\n",
      "\n",
      "Inverse of Matrix G:\n",
      "[[-0.02702703  0.1722973  -0.0777027 ]\n",
      " [-0.02702703 -0.0777027   0.1722973 ]\n",
      " [ 0.18918919 -0.08108108 -0.08108108]]\n"
     ]
    }
   ],
   "source": [
    "# 85. Create a square matrix `G` and find its inverse.\n",
    "\n",
    "import numpy as np\n",
    "\n",
    "# Generate a square matrix G of shape (3, 3) with random integers\n",
    "G = np.random.randint(1, 10, size=(3, 3))\n",
    "\n",
    "# Compute the determinant to check if the matrix is invertible\n",
    "determinant_G = np.linalg.det(G)\n",
    "\n",
    "if determinant_G != 0:\n",
    "    # Compute the inverse of matrix G\n",
    "    G_inverse = np.linalg.inv(G)\n",
    "    \n",
    "    # Print the matrix and its inverse\n",
    "    print(\"Matrix G (3x3):\")\n",
    "    print(G)\n",
    "    print(\"\\nInverse of Matrix G:\")\n",
    "    print(G_inverse)\n",
    "else:\n",
    "    print(\"Matrix G is singular and does not have an inverse.\")"
   ]
  },
  {
   "cell_type": "code",
   "execution_count": null,
   "id": "87c7465f-1301-4b95-ab94-1816580cda8c",
   "metadata": {},
   "outputs": [],
   "source": []
  }
 ],
 "metadata": {
  "kernelspec": {
   "display_name": "Python 3 (ipykernel)",
   "language": "python",
   "name": "python3"
  },
  "language_info": {
   "codemirror_mode": {
    "name": "ipython",
    "version": 3
   },
   "file_extension": ".py",
   "mimetype": "text/x-python",
   "name": "python",
   "nbconvert_exporter": "python",
   "pygments_lexer": "ipython3",
   "version": "3.10.8"
  }
 },
 "nbformat": 4,
 "nbformat_minor": 5
}

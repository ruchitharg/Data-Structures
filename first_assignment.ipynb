{
 "cells": [
  {
   "cell_type": "code",
   "execution_count": 2,
   "id": "681a1687-bb15-4c6a-8020-68be818c9370",
   "metadata": {},
   "outputs": [
    {
     "name": "stdout",
     "output_type": "stream",
     "text": [
      "The original string is : PWSKILLS\n",
      "The reversed string(using loops) is : SLLIKSWP\n"
     ]
    }
   ],
   "source": [
    "# 1.Write a code to reverse a string.\n",
    "\n",
    "def reverse(s):\n",
    "    str = \"\"\n",
    "    for i in s:\n",
    "        str = i + str\n",
    "    return str\n",
    "\n",
    "s = \"PWSKILLS\"\n",
    "\n",
    "print(\"The original string is : \", end=\"\")\n",
    "print(s)\n",
    "\n",
    "print(\"The reversed string(using loops) is : \", end=\"\")\n",
    "print(reverse(s))"
   ]
  },
  {
   "cell_type": "code",
   "execution_count": 3,
   "id": "de24f422-ed9c-4f29-bb9a-cbe64894c9ed",
   "metadata": {},
   "outputs": [
    {
     "name": "stdout",
     "output_type": "stream",
     "text": [
      "Number of vowels: 9\n"
     ]
    }
   ],
   "source": [
    "# 2.Write a code to count the number of vowels in a string.\n",
    "\n",
    "word = \"PWSKILLS - DATA ANALYTICS COURSE\"\n",
    "vowel_count = 0\n",
    " \n",
    "for char in word:\n",
    "    if char.lower() in ['a', 'e', 'i', 'o', 'u']:\n",
    "        vowel_count += 1\n",
    " \n",
    "print(\"Number of vowels:\", vowel_count)"
   ]
  },
  {
   "cell_type": "code",
   "execution_count": 4,
   "id": "afa18901-17a9-4679-92a2-15a693323cfc",
   "metadata": {},
   "outputs": [
    {
     "name": "stdout",
     "output_type": "stream",
     "text": [
      "Yes\n"
     ]
    }
   ],
   "source": [
    "# 3.Write a code to check if a given string is a palindrome or not.\n",
    "\n",
    "def isPalindrome(s):\n",
    "    return s == s[::-1]\n",
    "\n",
    "\n",
    "s = \"malayalam\"\n",
    "ans = isPalindrome(s)\n",
    "\n",
    "if ans:\n",
    "    print(\"Yes\")\n",
    "else:\n",
    "    print(\"No\")"
   ]
  },
  {
   "cell_type": "code",
   "execution_count": 5,
   "id": "7964b479-5381-498b-923b-a8bf086ffe64",
   "metadata": {},
   "outputs": [
    {
     "name": "stdout",
     "output_type": "stream",
     "text": [
      "True\n",
      "False\n"
     ]
    }
   ],
   "source": [
    "# 4. Write a code to check if two given strings are anagrams of each other.\n",
    "\n",
    "def are_anagrams(s1, s2):\n",
    "    return sorted(s1) == sorted(s2)\n",
    "\n",
    "\n",
    "if __name__ == \"__main__\":\n",
    "    str1 = \"listen\"\n",
    "    str2 = \"silent\"\n",
    "\n",
    "    if are_anagrams(str1, str2):\n",
    "        print(\"True\")\n",
    "    else:\n",
    "        print(\"False\")\n",
    "\n",
    "    str1 = \"gram\"\n",
    "    str2 = \"arm\"\n",
    "\n",
    "    if are_anagrams(str1, str2):\n",
    "        print(\"True\")\n",
    "    else:\n",
    "        print(\"False\")"
   ]
  },
  {
   "cell_type": "code",
   "execution_count": 6,
   "id": "8adc5cff-c0c6-42c8-9031-334b62f50c69",
   "metadata": {},
   "outputs": [
    {
     "name": "stdout",
     "output_type": "stream",
     "text": [
      "2 "
     ]
    }
   ],
   "source": [
    "# 5. Write a code to find all occurrences of a given substring within another string.\n",
    "\n",
    "def printIndex(str, s):\n",
    "\n",
    "    flag = False\n",
    "    for i in range(len(str)):\n",
    "        if (str[i:i + len(s)] == s):\n",
    "\n",
    "            print(i, end=\" \")\n",
    "            flag = True\n",
    "\n",
    "    if (flag == False):\n",
    "        print(\"NONE\")\n",
    "\n",
    "\n",
    "str1 = \"PWSKILLS\"\n",
    "str2 = \"SKILLS\"\n",
    "printIndex(str1, str2)"
   ]
  },
  {
   "cell_type": "code",
   "execution_count": 15,
   "id": "a61e0c76-655a-4703-97ce-570719b92c56",
   "metadata": {
    "tags": []
   },
   "outputs": [
    {
     "name": "stdout",
     "output_type": "stream",
     "text": [
      "a2b1c5a3\n"
     ]
    }
   ],
   "source": [
    "# 6. Write a code to perform basic string compression using the counts of repeated characters.\n",
    "\n",
    "def compress_string(s):\n",
    "    compressed = []\n",
    "    count = 1\n",
    "\n",
    "    for i in range(1, len(s)):\n",
    "        if s[i] == s[i - 1]:\n",
    "            count += 1\n",
    "        else:\n",
    "            compressed.append(s[i - 1] + str(count))\n",
    "            count = 1\n",
    "    \n",
    "    compressed.append(s[-1] + str(count))\n",
    "\n",
    "    compressed_string = ''.join(compressed)\n",
    "\n",
    "    return compressed_string if len(compressed_string) < len(s) else s\n",
    "\n",
    "input_string = \"aabcccccaaa\"\n",
    "compressed_output = compress_string(input_string)\n",
    "print(compressed_output)"
   ]
  },
  {
   "cell_type": "code",
   "execution_count": 8,
   "id": "e4b10694-174f-434c-9b0e-a1bd8bd915a8",
   "metadata": {},
   "outputs": [
    {
     "name": "stdout",
     "output_type": "stream",
     "text": [
      "True\n",
      "False\n"
     ]
    }
   ],
   "source": [
    "# 7. Write a code to determine if a string has all unique characters.\n",
    "\n",
    "def has_unique_characters(s):\n",
    "    chars_seen = set()\n",
    "\n",
    "    for char in s:\n",
    "        if char in chars_seen:\n",
    "            return False\n",
    "        chars_seen.add(char)\n",
    "\n",
    "    return True\n",
    "\n",
    "input_string = \"abcdefg\"\n",
    "print(has_unique_characters(input_string))\n",
    "\n",
    "input_string = \"aabcdef\"\n",
    "print(has_unique_characters(input_string))"
   ]
  },
  {
   "cell_type": "code",
   "execution_count": 14,
   "id": "c7095360-1b72-4277-88f6-056e5ef92d88",
   "metadata": {},
   "outputs": [
    {
     "name": "stdout",
     "output_type": "stream",
     "text": [
      "PWSKILLS\n",
      "pwskills\n"
     ]
    }
   ],
   "source": [
    "# 8. Write a code to convert a given string to uppercase or lowercase.\n",
    "\n",
    "def to_uppercase(s):\n",
    "    return s.upper()\n",
    "\n",
    "def to_lowercase(s):\n",
    "    return s.lower()\n",
    "\n",
    "input_string = \"PWSKILLS\"\n",
    "\n",
    "uppercase_output = to_uppercase(input_string)\n",
    "print(uppercase_output)\n",
    "\n",
    "lowercase_output = to_lowercase(input_string)\n",
    "print(lowercase_output)"
   ]
  },
  {
   "cell_type": "code",
   "execution_count": 10,
   "id": "04115e28-eb2c-4187-98f9-b5e6e142322a",
   "metadata": {},
   "outputs": [
    {
     "name": "stdout",
     "output_type": "stream",
     "text": [
      "4\n"
     ]
    }
   ],
   "source": [
    "# 9. Write a code to count the number of words in a string.\n",
    "\n",
    "def count_words(s):\n",
    "    words = s.split()\n",
    "    \n",
    "    return len(words)\n",
    "\n",
    "input_string = \"PWSKILLS DATA ANALYTICS COURSE\"\n",
    "word_count = count_words(input_string)\n",
    "print(word_count)"
   ]
  },
  {
   "cell_type": "code",
   "execution_count": 12,
   "id": "95f00894-5437-4789-95a9-19ee2d00f3ce",
   "metadata": {},
   "outputs": [
    {
     "name": "stdout",
     "output_type": "stream",
     "text": [
      "PWSKILLS DATA ANALYTICS COURSE\n"
     ]
    }
   ],
   "source": [
    "# 10. Write a code to concatenate two strings without using the + operator.\n",
    "\n",
    "def concatenate_strings(s1, s2):\n",
    "    return ''.join([s1, s2])\n",
    "\n",
    "string1 = \"PWSKILLS \"\n",
    "string2 = \"DATA ANALYTICS COURSE\"\n",
    "result = concatenate_strings(string1, string2)\n",
    "print(result)"
   ]
  },
  {
   "cell_type": "code",
   "execution_count": 13,
   "id": "d8560c51-408d-48ea-9e2c-970d775a8aed",
   "metadata": {},
   "outputs": [
    {
     "name": "stdout",
     "output_type": "stream",
     "text": [
      "[1, 3, 4, 5, 6]\n"
     ]
    }
   ],
   "source": [
    "# 11. Write a code to remove all occurrences of a specific element from a list.\n",
    "\n",
    "def remove_all_occurrences(lst, element):\n",
    "    return [item for item in lst if item != element]\n",
    "\n",
    "input_list = [1, 2, 3, 4, 2, 5, 2, 6]\n",
    "element_to_remove = 2\n",
    "result = remove_all_occurrences(input_list, element_to_remove)\n",
    "print(result)"
   ]
  },
  {
   "cell_type": "code",
   "execution_count": 16,
   "id": "cdf20a46-e5c3-4b9a-8b08-c85848227e62",
   "metadata": {},
   "outputs": [
    {
     "name": "stdout",
     "output_type": "stream",
     "text": [
      "45\n"
     ]
    }
   ],
   "source": [
    "# 12. Implement a code to find the second largest number in a given list of integers.\n",
    "\n",
    "def find_second_largest(lst):\n",
    "    if len(lst) < 2:\n",
    "        return None\n",
    "\n",
    "    first_largest = second_largest = float('-inf')\n",
    "\n",
    "    for num in lst:\n",
    "        if num > first_largest:\n",
    "            second_largest = first_largest\n",
    "            first_largest = num\n",
    "        elif num > second_largest and num != first_largest:\n",
    "            second_largest = num\n",
    "\n",
    "    return second_largest if second_largest != float('-inf') else None\n",
    "\n",
    "input_list = [10, 20, 4, 45, 99, 99]\n",
    "second_largest = find_second_largest(input_list)\n",
    "print(second_largest)"
   ]
  },
  {
   "cell_type": "code",
   "execution_count": 17,
   "id": "f605b37b-58e9-4511-8dcf-bd8c5a52ca19",
   "metadata": {},
   "outputs": [
    {
     "name": "stdout",
     "output_type": "stream",
     "text": [
      "{1: 1, 2: 2, 3: 3, 4: 4}\n"
     ]
    }
   ],
   "source": [
    "# 13. Create a code to count the occurrences of each element in a list and return a dictionary with elements as keys and their counts as values.\n",
    "\n",
    "def count_occurrences(lst):\n",
    "    counts = {}\n",
    "\n",
    "    for element in lst:\n",
    "        if element in counts:\n",
    "            counts[element] += 1\n",
    "        else:\n",
    "            counts[element] = 1\n",
    "\n",
    "    return counts\n",
    "\n",
    "input_list = [1, 2, 2, 3, 3, 3, 4, 4, 4, 4]\n",
    "occurrences = count_occurrences(input_list)\n",
    "print(occurrences)"
   ]
  },
  {
   "cell_type": "code",
   "execution_count": 18,
   "id": "a4fc0f8e-debe-404a-9cbc-6538504fae07",
   "metadata": {},
   "outputs": [
    {
     "name": "stdout",
     "output_type": "stream",
     "text": [
      "[5, 4, 3, 2, 1]\n"
     ]
    }
   ],
   "source": [
    "# 14. Write a code to reverse a list in-place without using any built-in reverse functions.\n",
    "\n",
    "def reverse_list(lst):\n",
    "    left = 0\n",
    "    right = len(lst) - 1\n",
    "\n",
    "    while left < right:\n",
    "        lst[left], lst[right] = lst[right], lst[left]\n",
    "\n",
    "        left += 1\n",
    "        right -= 1\n",
    "\n",
    "input_list = [1, 2, 3, 4, 5]\n",
    "reverse_list(input_list)\n",
    "print(input_list)"
   ]
  },
  {
   "cell_type": "code",
   "execution_count": 19,
   "id": "ce30cfc2-f042-4a4a-a6a3-7476e3f305b9",
   "metadata": {},
   "outputs": [
    {
     "name": "stdout",
     "output_type": "stream",
     "text": [
      "[1, 2, 3, 4, 5]\n"
     ]
    }
   ],
   "source": [
    "# 15. Implement a code to find and remove duplicates from a list while preserving the original order of elements.\n",
    "\n",
    "def remove_duplicates(lst):\n",
    "    seen = set()\n",
    "    result = []\n",
    "\n",
    "    for element in lst:\n",
    "        if element not in seen:\n",
    "            result.append(element)\n",
    "            seen.add(element)\n",
    "\n",
    "    return result\n",
    "\n",
    "input_list = [1, 2, 2, 3, 4, 4, 5]\n",
    "output_list = remove_duplicates(input_list)\n",
    "print(output_list)"
   ]
  },
  {
   "cell_type": "code",
   "execution_count": 20,
   "id": "30692a7e-5391-4291-8837-364cfe4eca3c",
   "metadata": {},
   "outputs": [
    {
     "name": "stdout",
     "output_type": "stream",
     "text": [
      "True\n",
      "True\n",
      "False\n"
     ]
    }
   ],
   "source": [
    "# 16. Create a code to check if a given list in sorted (either in ascending or descending order) or not.\n",
    "\n",
    "def is_sorted(lst):\n",
    "    if len(lst) < 2:\n",
    "        return True\n",
    "\n",
    "    ascending = all(lst[i] <= lst[i + 1] for i in range(len(lst) - 1))\n",
    "    \n",
    "    descending = all(lst[i] >= lst[i + 1] for i in range(len(lst) - 1))\n",
    "\n",
    "    return ascending or descending\n",
    "\n",
    "list1 = [1, 2, 3, 4, 5]\n",
    "list2 = [5, 4, 3, 2, 1]\n",
    "list3 = [1, 3, 2, 4, 5]\n",
    "\n",
    "print(is_sorted(list1))\n",
    "print(is_sorted(list2))\n",
    "print(is_sorted(list3))"
   ]
  },
  {
   "cell_type": "code",
   "execution_count": 21,
   "id": "688974a4-40a6-4591-92f1-3189f7a5446a",
   "metadata": {},
   "outputs": [
    {
     "name": "stdout",
     "output_type": "stream",
     "text": [
      "[1, 2, 3, 4, 5, 6, 7, 8]\n"
     ]
    }
   ],
   "source": [
    "# 17. Write a code to merge two sorted lists into a single sorted list.\n",
    "\n",
    "def merge_sorted_lists(list1, list2):\n",
    "    i, j = 0, 0\n",
    "    merged_list = []\n",
    "\n",
    "    while i < len(list1) and j < len(list2):\n",
    "        if list1[i] <= list2[j]:\n",
    "            merged_list.append(list1[i])\n",
    "            i += 1\n",
    "        else:\n",
    "            merged_list.append(list2[j])\n",
    "            j += 1\n",
    "\n",
    "    while i < len(list1):\n",
    "        merged_list.append(list1[i])\n",
    "        i += 1\n",
    "\n",
    "    while j < len(list2):\n",
    "        merged_list.append(list2[j])\n",
    "        j += 1\n",
    "\n",
    "    return merged_list\n",
    "\n",
    "sorted_list1 = [1, 3, 5, 7]\n",
    "sorted_list2 = [2, 4, 6, 8]\n",
    "merged_list = merge_sorted_lists(sorted_list1, sorted_list2)\n",
    "print(merged_list)"
   ]
  },
  {
   "cell_type": "code",
   "execution_count": 22,
   "id": "f77f09ef-35da-4bc1-8d32-6f771c4fa2fd",
   "metadata": {},
   "outputs": [
    {
     "name": "stdout",
     "output_type": "stream",
     "text": [
      "[4, 5]\n"
     ]
    }
   ],
   "source": [
    "# 18. Implement a code to find the intersection of two given lists.\n",
    "\n",
    "def intersection_of_lists(list1, list2):\n",
    "    set1 = set(list1)\n",
    "    set2 = set(list2)\n",
    "    \n",
    "    intersection = set1 & set2\n",
    "    \n",
    "    return list(intersection)\n",
    "\n",
    "list1 = [1, 2, 3, 4, 5]\n",
    "list2 = [4, 5, 6, 7, 8]\n",
    "result = intersection_of_lists(list1, list2)\n",
    "print(result)"
   ]
  },
  {
   "cell_type": "code",
   "execution_count": 23,
   "id": "45da71bd-8c18-40b9-8b5e-42471de43524",
   "metadata": {},
   "outputs": [
    {
     "name": "stdout",
     "output_type": "stream",
     "text": [
      "[1, 2, 3, 4, 5, 6, 7, 8]\n"
     ]
    }
   ],
   "source": [
    "# 19. Create a code to find the union of two lists without duplicates.\n",
    "\n",
    "def union_of_lists(list1, list2):\n",
    "    set1 = set(list1)\n",
    "    set2 = set(list2)\n",
    "    \n",
    "    union = set1 | set2\n",
    "    \n",
    "    return list(union)\n",
    "\n",
    "list1 = [1, 2, 3, 4, 5]\n",
    "list2 = [4, 5, 6, 7, 8]\n",
    "result = union_of_lists(list1, list2)\n",
    "print(result)"
   ]
  },
  {
   "cell_type": "code",
   "execution_count": 26,
   "id": "111c6303-614b-4874-a37b-9ad0f8469a55",
   "metadata": {},
   "outputs": [
    {
     "name": "stdout",
     "output_type": "stream",
     "text": [
      "[1, 4, 5, 3, 2]\n"
     ]
    }
   ],
   "source": [
    "# 20. Write a code to shuffle a given list randomly without using any built-in shuffle functions.\n",
    "\n",
    "import random\n",
    "\n",
    "def shuffle_list(lst):\n",
    "    for i in range(len(lst) - 1, 0, -1):\n",
    "        j = random.randint(0, i)\n",
    "        lst[i], lst[j] = lst[j], lst[i]\n",
    "\n",
    "input_list = [1, 2, 3, 4, 5]\n",
    "shuffle_list(input_list)\n",
    "print(input_list)"
   ]
  },
  {
   "cell_type": "code",
   "execution_count": 27,
   "id": "2c27b603-c5e9-46a6-aefe-5081f6d7f580",
   "metadata": {},
   "outputs": [
    {
     "name": "stdout",
     "output_type": "stream",
     "text": [
      "(4, 5)\n"
     ]
    }
   ],
   "source": [
    "# 21. Write a code that take two tuples as input and returns a new tuple containing elements that are common to both input tuples.\n",
    "\n",
    "def common_elements(tuple1, tuple2):\n",
    "    set1 = set(tuple1)\n",
    "    set2 = set(tuple2)\n",
    "    \n",
    "    common_set = set1 & set2\n",
    "    \n",
    "    return tuple(common_set)\n",
    "\n",
    "tuple1 = (1, 2, 3, 4, 5)\n",
    "tuple2 = (4, 5, 6, 7, 8)\n",
    "result = common_elements(tuple1, tuple2)\n",
    "print(result)"
   ]
  },
  {
   "cell_type": "code",
   "execution_count": 29,
   "id": "4f5a9cef-f81d-436a-8de9-798fc169b5f9",
   "metadata": {},
   "outputs": [
    {
     "name": "stdin",
     "output_type": "stream",
     "text": [
      "Enter the first set of integers separated by commas:  5,3,4,6,7,8,1,2\n",
      "Enter the second set of integers separated by commas:  9,4,5,1,6,8,7,3\n"
     ]
    },
    {
     "name": "stdout",
     "output_type": "stream",
     "text": [
      "The intersection of the two sets is: {1, 3, 4, 5, 6, 7, 8}\n"
     ]
    }
   ],
   "source": [
    "# 22. Create a code that prompts the user to enter two sets of integers separated by commas. Then, print the intersection of these two sets.\n",
    "\n",
    "def get_set_from_input(prompt):\n",
    "    user_input = input(prompt)\n",
    "    \n",
    "    input_list = [int(x.strip()) for x in user_input.split(',')]\n",
    "    \n",
    "    return set(input_list)\n",
    "\n",
    "def main():\n",
    "    set1 = get_set_from_input(\"Enter the first set of integers separated by commas: \")\n",
    "    \n",
    "    set2 = get_set_from_input(\"Enter the second set of integers separated by commas: \")\n",
    "    \n",
    "    intersection = set1 & set2\n",
    "    \n",
    "    print(\"The intersection of the two sets is:\", intersection)\n",
    "\n",
    "if __name__ == \"__main__\":\n",
    "    main()"
   ]
  },
  {
   "cell_type": "code",
   "execution_count": 30,
   "id": "34788ca6-065d-485e-99ef-0565b9f87ebc",
   "metadata": {},
   "outputs": [
    {
     "name": "stdout",
     "output_type": "stream",
     "text": [
      "(1, 2, 3, 4, 5, 6)\n"
     ]
    }
   ],
   "source": [
    "# 23. Write a code to concatenate two tuples. The function should take two tuples as input and return a new tuple containing elements from both input tuples.\n",
    "\n",
    "def concatenate_tuples(tuple1, tuple2):\n",
    "    return tuple1 + tuple2\n",
    "\n",
    "tuple1 = (1, 2, 3)\n",
    "tuple2 = (4, 5, 6)\n",
    "result = concatenate_tuples(tuple1, tuple2)\n",
    "print(result)"
   ]
  },
  {
   "cell_type": "code",
   "execution_count": 32,
   "id": "beb38a78-cc12-4ea1-a20b-a6426790e9de",
   "metadata": {},
   "outputs": [
    {
     "name": "stdin",
     "output_type": "stream",
     "text": [
      "Enter the first set of strings separated by commas:  1,2,2,8,5,6\n",
      "Enter the second set of strings separated by commas:  5,2,6,8,4,9\n"
     ]
    },
    {
     "name": "stdout",
     "output_type": "stream",
     "text": [
      "Elements present in the first set but not in the second set: {'1'}\n"
     ]
    }
   ],
   "source": [
    "# 24. Develop a code that prompts the user to input two sets of strings. Then print the elements that are present in the first set but not in the second sets.\n",
    "\n",
    "def get_set_from_input(prompt):\n",
    "    user_input = input(prompt)\n",
    "    \n",
    "    input_list = [x.strip() for x in user_input.split(',')]\n",
    "    \n",
    "    return set(input_list)\n",
    "\n",
    "def main():\n",
    "    set1 = get_set_from_input(\"Enter the first set of strings separated by commas: \")\n",
    "    \n",
    "    set2 = get_set_from_input(\"Enter the second set of strings separated by commas: \")\n",
    "    \n",
    "    difference = set1 - set2\n",
    "    \n",
    "    print(\"Elements present in the first set but not in the second set:\", difference)\n",
    "\n",
    "if __name__ == \"__main__\":\n",
    "    main()"
   ]
  },
  {
   "cell_type": "code",
   "execution_count": 33,
   "id": "395b6a57-b64f-4eab-a3a5-0118ef81b522",
   "metadata": {},
   "outputs": [
    {
     "name": "stdout",
     "output_type": "stream",
     "text": [
      "(30, 40, 50)\n"
     ]
    }
   ],
   "source": [
    "# 25. Create a code that takes a tuple and two integers as input. The function should return a new tuple containing elements from the original tuple within the specified range of indices.\n",
    "\n",
    "def slice_tuple(tpl, start_index, end_index):\n",
    "    \n",
    "    if start_index < 0:\n",
    "        start_index = 0\n",
    "    if end_index > len(tpl):\n",
    "        end_index = len(tpl)\n",
    "    if start_index > end_index:\n",
    "        return ()\n",
    "    \n",
    "    return tpl[start_index:end_index]\n",
    "\n",
    "original_tuple = (10, 20, 30, 40, 50, 60, 70)\n",
    "start = 2\n",
    "end = 5\n",
    "result = slice_tuple(original_tuple, start, end)\n",
    "print(result)"
   ]
  },
  {
   "cell_type": "code",
   "execution_count": 34,
   "id": "2e1e314f-062d-4322-873b-fc21931090b6",
   "metadata": {},
   "outputs": [
    {
     "name": "stdin",
     "output_type": "stream",
     "text": [
      "Enter the first set of characters separated by commas:  5,6,2,8,9\n",
      "Enter the second set of characters separated by commas:  7,5,8,4,2\n"
     ]
    },
    {
     "name": "stdout",
     "output_type": "stream",
     "text": [
      "The union of the two sets is: {'7', '5', '2', '9', '6', '8', '4'}\n"
     ]
    }
   ],
   "source": [
    "# 26. Write a code that prompts the user to input two sets of characters. Then print the union of these two sets.\n",
    "\n",
    "def get_set_from_input(prompt):\n",
    "    \n",
    "    user_input = input(prompt)\n",
    "    \n",
    "    input_list = [x.strip() for x in user_input.split(',')]\n",
    "    \n",
    "    return set(input_list)\n",
    "\n",
    "def main():\n",
    "\n",
    "    set1 = get_set_from_input(\"Enter the first set of characters separated by commas: \")\n",
    "    \n",
    "    set2 = get_set_from_input(\"Enter the second set of characters separated by commas: \")\n",
    "    \n",
    "    union = set1 | set2\n",
    "    \n",
    "    print(\"The union of the two sets is:\", union)\n",
    "\n",
    "if __name__ == \"__main__\":\n",
    "    main()"
   ]
  },
  {
   "cell_type": "code",
   "execution_count": 35,
   "id": "600c5580-6a3d-4059-a4df-06a3b1587256",
   "metadata": {},
   "outputs": [
    {
     "name": "stdout",
     "output_type": "stream",
     "text": [
      "Maximum value: 23\n",
      "Minimum value: 1\n"
     ]
    }
   ],
   "source": [
    "# 27. Develop a code that takes a tuple of integers as input. The function should return the maximum and minimum values from the tuple using tuple unpacking.\n",
    "\n",
    "def find_max_min(tpl):\n",
    "\n",
    "    if not tpl:\n",
    "        return None, None\n",
    "    \n",
    "    max_value = max(tpl)\n",
    "    min_value = min(tpl)\n",
    "    \n",
    "    return max_value, min_value\n",
    "\n",
    "input_tuple = (10, 5, 8, 23, 1, 16)\n",
    "max_val, min_val = find_max_min(input_tuple)\n",
    "print(f\"Maximum value: {max_val}\")\n",
    "print(f\"Minimum value: {min_val}\")"
   ]
  },
  {
   "cell_type": "code",
   "execution_count": 36,
   "id": "a9526995-3647-42a1-93c9-01bc450023b6",
   "metadata": {},
   "outputs": [
    {
     "name": "stdout",
     "output_type": "stream",
     "text": [
      "Union of the two sets: {1, 2, 3, 4, 5, 6, 7, 8}\n",
      "Intersection of the two sets: {4, 5}\n",
      "Difference (elements in set1 but not in set2): {1, 2, 3}\n"
     ]
    }
   ],
   "source": [
    "# 28. Create a code that defines two sets of integers. Then print the union intersection and difference of these two sets.\n",
    "\n",
    "def print_set_operations(set1, set2):\n",
    "    union = set1 | set2\n",
    "    \n",
    "    intersection = set1 & set2\n",
    "    \n",
    "    difference = set1 - set2\n",
    "    \n",
    "    print(\"Union of the two sets:\", union)\n",
    "    print(\"Intersection of the two sets:\", intersection)\n",
    "    print(\"Difference (elements in set1 but not in set2):\", difference)\n",
    "\n",
    "set1 = {1, 2, 3, 4, 5}\n",
    "set2 = {4, 5, 6, 7, 8}\n",
    "\n",
    "print_set_operations(set1, set2)"
   ]
  },
  {
   "cell_type": "code",
   "execution_count": 37,
   "id": "96a4051f-0bee-44d4-887c-40e4d5b64725",
   "metadata": {},
   "outputs": [
    {
     "name": "stdout",
     "output_type": "stream",
     "text": [
      "The element 2 appears 3 times in the tuple.\n"
     ]
    }
   ],
   "source": [
    "# 29. Write a code that takes a tuple and an element as input. The function should return the count of occurrences of the given element in the tuple.\n",
    "\n",
    "def count_occurrences(tpl, element):\n",
    "    return tpl.count(element)\n",
    "\n",
    "input_tuple = (1, 2, 3, 2, 4, 2, 5)\n",
    "element = 2\n",
    "count = count_occurrences(input_tuple, element)\n",
    "print(f\"The element {element} appears {count} times in the tuple.\")"
   ]
  },
  {
   "cell_type": "code",
   "execution_count": 38,
   "id": "ee9428d6-18b9-418e-bbe6-79b886701578",
   "metadata": {},
   "outputs": [
    {
     "name": "stdin",
     "output_type": "stream",
     "text": [
      "Enter the first set of strings separated by commas:  2,3,8,9,7\n",
      "Enter the second set of strings separated by commas:  5,6,2,8,9\n"
     ]
    },
    {
     "name": "stdout",
     "output_type": "stream",
     "text": [
      "The symmetric difference of the two sets is: {'7', '5', '6', '3'}\n"
     ]
    }
   ],
   "source": [
    "# 30. Develop a code that prompts the user to input two sets of strings. Then print the symmetric difference of these two sets.\n",
    "\n",
    "def get_set_from_input(prompt):\n",
    "    user_input = input(prompt)\n",
    "    \n",
    "    input_list = [x.strip() for x in user_input.split(',')]\n",
    "    \n",
    "    return set(input_list)\n",
    "\n",
    "def main():\n",
    "    set1 = get_set_from_input(\"Enter the first set of strings separated by commas: \")\n",
    "    \n",
    "    set2 = get_set_from_input(\"Enter the second set of strings separated by commas: \")\n",
    "    \n",
    "    symmetric_difference = set1 ^ set2\n",
    "    \n",
    "    print(\"The symmetric difference of the two sets is:\", symmetric_difference)\n",
    "\n",
    "if __name__ == \"__main__\":\n",
    "    main()"
   ]
  },
  {
   "cell_type": "code",
   "execution_count": 39,
   "id": "d8683b41-d573-4b1a-9a3b-e0a12aa53cb2",
   "metadata": {},
   "outputs": [
    {
     "name": "stdout",
     "output_type": "stream",
     "text": [
      "{'apple': 2, 'banana': 3, 'orange': 1}\n"
     ]
    }
   ],
   "source": [
    "# 31. Write a code that takes a list of words as input and returns a dictionary where the keys are unique words and the values are the frequencies of those words in the input list.\n",
    "\n",
    "def word_frequencies(word_list):\n",
    "    frequency_dict = {}\n",
    "    \n",
    "    for word in word_list:\n",
    "        if word in frequency_dict:\n",
    "            frequency_dict[word] += 1\n",
    "        else:\n",
    "            frequency_dict[word] = 1\n",
    "    \n",
    "    return frequency_dict\n",
    "\n",
    "input_list = [\"apple\", \"banana\", \"apple\", \"orange\", \"banana\", \"banana\"]\n",
    "result = word_frequencies(input_list)\n",
    "print(result)"
   ]
  },
  {
   "cell_type": "code",
   "execution_count": 40,
   "id": "c4749fed-a1eb-4a4a-9603-69fcc9c66d94",
   "metadata": {},
   "outputs": [
    {
     "name": "stdout",
     "output_type": "stream",
     "text": [
      "{'a': 1, 'b': 5, 'c': 7, 'd': 5}\n"
     ]
    }
   ],
   "source": [
    "# 32. Write a code that takes two dictionaries as input and merges them into a single dictionary. If there are common keys the values should be added together.\n",
    "\n",
    "def merge_dictionaries(dict1, dict2):\n",
    "    merged_dict = dict1.copy()\n",
    "    \n",
    "    for key, value in dict2.items():\n",
    "        if key in merged_dict:\n",
    "            merged_dict[key] += value\n",
    "        else:\n",
    "            merged_dict[key] = value\n",
    "    \n",
    "    return merged_dict\n",
    "\n",
    "dict1 = {'a': 1, 'b': 2, 'c': 3}\n",
    "dict2 = {'b': 3, 'c': 4, 'd': 5}\n",
    "result = merge_dictionaries(dict1, dict2)\n",
    "print(result)"
   ]
  },
  {
   "cell_type": "code",
   "execution_count": 41,
   "id": "a561878d-0517-4e20-a7ee-3101dd5c0b13",
   "metadata": {},
   "outputs": [
    {
     "name": "stdout",
     "output_type": "stream",
     "text": [
      "10\n",
      "None\n",
      "20\n"
     ]
    }
   ],
   "source": [
    "# 33. Write a code to access a value in a nested dictionary. The function should take the dictionary and a list of keys as input and return the corresponding value. If any of the keys do not exist in the dictionary the function should return None.\n",
    "\n",
    "def get_nested_value(d, keys):\n",
    "    current = d\n",
    "    \n",
    "    for key in keys:\n",
    "        if isinstance(current, dict) and key in current:\n",
    "            current = current[key]\n",
    "        else:\n",
    "            return None\n",
    "    \n",
    "    return current\n",
    "\n",
    "nested_dict = {\n",
    "    'a': {\n",
    "        'b': {\n",
    "            'c': 10\n",
    "        }\n",
    "    },\n",
    "    'x': 20\n",
    "}\n",
    "\n",
    "keys = ['a', 'b', 'c']\n",
    "result = get_nested_value(nested_dict, keys)\n",
    "print(result)\n",
    "\n",
    "keys = ['a', 'b', 'd']\n",
    "result = get_nested_value(nested_dict, keys)\n",
    "print(result)\n",
    "\n",
    "keys = ['x']\n",
    "result = get_nested_value(nested_dict, keys)\n",
    "print(result)"
   ]
  },
  {
   "cell_type": "code",
   "execution_count": 42,
   "id": "bf0ec01e-a539-4f89-b48a-554d2bc948f7",
   "metadata": {},
   "outputs": [
    {
     "name": "stdout",
     "output_type": "stream",
     "text": [
      "Sorted in ascending order: {'b': 1, 'c': 2, 'a': 3}\n",
      "Sorted in descending order: {'a': 3, 'c': 2, 'b': 1}\n"
     ]
    }
   ],
   "source": [
    "# 34. Write a code that takes a dictionary as input and returns a sorted version of it based on the values. You can choose whether to sort in ascending or descending order.\n",
    "\n",
    "def sort_dict_by_value(d, ascending=True):\n",
    "    sorted_dict = dict(sorted(d.items(), key=lambda item: item[1], reverse=not ascending))\n",
    "    return sorted_dict\n",
    "\n",
    "example_dict = {'a': 3, 'b': 1, 'c': 2}\n",
    "\n",
    "sorted_dict_asc = sort_dict_by_value(example_dict, ascending=True)\n",
    "print(\"Sorted in ascending order:\", sorted_dict_asc)\n",
    "\n",
    "sorted_dict_desc = sort_dict_by_value(example_dict, ascending=False)\n",
    "print(\"Sorted in descending order:\", sorted_dict_desc)"
   ]
  },
  {
   "cell_type": "code",
   "execution_count": 43,
   "id": "b59d4928-6a1a-448d-aa1e-4504adf32c71",
   "metadata": {},
   "outputs": [
    {
     "name": "stdout",
     "output_type": "stream",
     "text": [
      "{1: ['a', 'c'], 2: ['b'], 3: ['d']}\n"
     ]
    }
   ],
   "source": [
    "# 35. Write a code that inverts a dictionary swapping keys and values. Ensure that the inverted dictionary correctly handles cases where multiple keys have the same value by storing the keys as a list in the inverted dictionary.\n",
    "\n",
    "def invert_dict(d):\n",
    "\n",
    "    inverted_dict = {}\n",
    "    \n",
    "    for key, value in d.items():\n",
    "        if value not in inverted_dict:\n",
    "            inverted_dict[value] = [key]\n",
    "        else:\n",
    "            inverted_dict[value].append(key)\n",
    "    \n",
    "    return inverted_dict\n",
    "\n",
    "original_dict = {'a': 1, 'b': 2, 'c': 1, 'd': 3}\n",
    "inverted = invert_dict(original_dict)\n",
    "print(inverted)"
   ]
  },
  {
   "cell_type": "code",
   "execution_count": null,
   "id": "dde1b76d-728a-4cd3-93e9-65237f09393a",
   "metadata": {},
   "outputs": [],
   "source": []
  }
 ],
 "metadata": {
  "kernelspec": {
   "display_name": "Python 3 (ipykernel)",
   "language": "python",
   "name": "python3"
  },
  "language_info": {
   "codemirror_mode": {
    "name": "ipython",
    "version": 3
   },
   "file_extension": ".py",
   "mimetype": "text/x-python",
   "name": "python",
   "nbconvert_exporter": "python",
   "pygments_lexer": "ipython3",
   "version": "3.10.8"
  }
 },
 "nbformat": 4,
 "nbformat_minor": 5
}
